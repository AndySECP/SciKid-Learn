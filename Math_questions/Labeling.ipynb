{
 "cells": [
  {
   "cell_type": "code",
   "execution_count": 164,
   "metadata": {},
   "outputs": [],
   "source": [
    "import json\n",
    "import pandas as pd\n",
    "data = pd.read_json('dev.json', lines=True)"
   ]
  },
  {
   "cell_type": "markdown",
   "metadata": {},
   "source": [
    "## Description\n",
    "\n",
    "In this notebook we are labeling the first 105 question of the dataset to use it after to predict the label of the whole data"
   ]
  },
  {
   "cell_type": "code",
   "execution_count": 165,
   "metadata": {
    "scrolled": true
   },
   "outputs": [
    {
     "data": {
      "text/html": [
       "<div>\n",
       "<style scoped>\n",
       "    .dataframe tbody tr th:only-of-type {\n",
       "        vertical-align: middle;\n",
       "    }\n",
       "\n",
       "    .dataframe tbody tr th {\n",
       "        vertical-align: top;\n",
       "    }\n",
       "\n",
       "    .dataframe thead th {\n",
       "        text-align: right;\n",
       "    }\n",
       "</style>\n",
       "<table border=\"1\" class=\"dataframe\">\n",
       "  <thead>\n",
       "    <tr style=\"text-align: right;\">\n",
       "      <th></th>\n",
       "      <th>correct</th>\n",
       "      <th>options</th>\n",
       "      <th>question</th>\n",
       "      <th>rationale</th>\n",
       "    </tr>\n",
       "  </thead>\n",
       "  <tbody>\n",
       "    <tr>\n",
       "      <th>0</th>\n",
       "      <td>A</td>\n",
       "      <td>[A)32400, B)6000, C)600, D)60000, E)10]</td>\n",
       "      <td>Three birds are flying at a fast rate of 900 k...</td>\n",
       "      <td>To calculate the equivalent of miles in a kilo...</td>\n",
       "    </tr>\n",
       "    <tr>\n",
       "      <th>1</th>\n",
       "      <td>D</td>\n",
       "      <td>[A)100 m, B)150 m, C)200 m, D)250 m, E)300 m]</td>\n",
       "      <td>A ship is leaving a port. It takes 240 seconds...</td>\n",
       "      <td>Let the length of the ship be x metres and its...</td>\n",
       "    </tr>\n",
       "    <tr>\n",
       "      <th>2</th>\n",
       "      <td>C</td>\n",
       "      <td>[A)6, B)18, C)24, D)36, E)48]</td>\n",
       "      <td>A rectangular piece of cloth 2 feet wide was c...</td>\n",
       "      <td>The question says, length of shorter piece is ...</td>\n",
       "    </tr>\n",
       "    <tr>\n",
       "      <th>3</th>\n",
       "      <td>B</td>\n",
       "      <td>[A)(1,1), B)(0,3), C)(2,0), D)(3,6), E)(6,3)]</td>\n",
       "      <td>In the xy-coordinate plane, which of the follo...</td>\n",
       "      <td>For a point to satisfy the given equation for ...</td>\n",
       "    </tr>\n",
       "    <tr>\n",
       "      <th>4</th>\n",
       "      <td>C</td>\n",
       "      <td>[A)7, B)9, C)13, D)27, E)45]</td>\n",
       "      <td>A travel company wants to charter a plane to t...</td>\n",
       "      <td>Additional passengers (i.e., an integer, let's...</td>\n",
       "    </tr>\n",
       "    <tr>\n",
       "      <th>5</th>\n",
       "      <td>B</td>\n",
       "      <td>[A)$895, B)$905, C)$910, D)$915, E)$945]</td>\n",
       "      <td>Kirk sells cars. On two sales, Kirk has receiv...</td>\n",
       "      <td>Let X be the third value.\\n850 + 705 + X = 820...</td>\n",
       "    </tr>\n",
       "    <tr>\n",
       "      <th>6</th>\n",
       "      <td>E</td>\n",
       "      <td>[A)$203, B)$202, C)$209, D)$205, E)$204]</td>\n",
       "      <td>A group of 5 friends were to contribute equall...</td>\n",
       "      <td>At the non-discounted price, each friend would...</td>\n",
       "    </tr>\n",
       "    <tr>\n",
       "      <th>7</th>\n",
       "      <td>B</td>\n",
       "      <td>[A)5.5, B)6, C)7, D)8, E)8.25]</td>\n",
       "      <td>Let A, B and C denote the vertices of a triang...</td>\n",
       "      <td>First, note that 4AFD and 4AFE have the same a...</td>\n",
       "    </tr>\n",
       "    <tr>\n",
       "      <th>8</th>\n",
       "      <td>D</td>\n",
       "      <td>[A)300, B)420, C)912, D)1340, E)1500]</td>\n",
       "      <td>ABC company pays an average of $120 per vehicl...</td>\n",
       "      <td>This means it could go out sometimes and it co...</td>\n",
       "    </tr>\n",
       "    <tr>\n",
       "      <th>9</th>\n",
       "      <td>D</td>\n",
       "      <td>[A)30 litres, B)27 litres, C)25 litres, D)22.5...</td>\n",
       "      <td>Solution A has 5% salt concentration and remai...</td>\n",
       "      <td>Before Evaporation:\\nSalt : 5% of 50 litre = 2...</td>\n",
       "    </tr>\n",
       "    <tr>\n",
       "      <th>10</th>\n",
       "      <td>B</td>\n",
       "      <td>[A)15, B)27, C)14, D)12, E)20]</td>\n",
       "      <td>If a number of apples, say x, is divisible by ...</td>\n",
       "      <td>The numbers are 3 and 9\\n3=1*3\\n9=3*3\\nThe fac...</td>\n",
       "    </tr>\n",
       "    <tr>\n",
       "      <th>11</th>\n",
       "      <td>D</td>\n",
       "      <td>[A)6, B)12, C)36, D)72, E)144]</td>\n",
       "      <td>In how many arrangements can you arrange 3 gre...</td>\n",
       "      <td>BGBGBG or GBGBGB --&gt; 2 ways,\\nBoth 3 B's and 3...</td>\n",
       "    </tr>\n",
       "    <tr>\n",
       "      <th>12</th>\n",
       "      <td>B</td>\n",
       "      <td>[A)8, B)9, C)10, D)11, E)12]</td>\n",
       "      <td>In a mixture, the ratio of spirit and water is...</td>\n",
       "      <td>Let amount of spirit be 3x. and water=2x.\\n3x-...</td>\n",
       "    </tr>\n",
       "    <tr>\n",
       "      <th>13</th>\n",
       "      <td>B</td>\n",
       "      <td>[A)6 hours, B)14.85 hours, C)12.1 hours, D)13....</td>\n",
       "      <td>A car traveled 40 mph from Belnap to Lincoln a...</td>\n",
       "      <td>The whole trip was 660 miles. which means one ...</td>\n",
       "    </tr>\n",
       "    <tr>\n",
       "      <th>14</th>\n",
       "      <td>B</td>\n",
       "      <td>[A)12 million, B)10 million, C)14 million, D)1...</td>\n",
       "      <td>In a certain conservative mutual fund, 60 perc...</td>\n",
       "      <td>Let x be the total money or value of the mutua...</td>\n",
       "    </tr>\n",
       "    <tr>\n",
       "      <th>15</th>\n",
       "      <td>A</td>\n",
       "      <td>[A)$68.00, B)$69.00, C)$70.00, D)$71.00, E)$72...</td>\n",
       "      <td>A certain state imposes a 4% tax on the nightl...</td>\n",
       "      <td>Total charge for a room for one night was $72....</td>\n",
       "    </tr>\n",
       "    <tr>\n",
       "      <th>16</th>\n",
       "      <td>B</td>\n",
       "      <td>[A)30, B)32, C)42, D)45, E)36]</td>\n",
       "      <td>Alex has enough money to buy 30 bricks. If the...</td>\n",
       "      <td>Test answer choice B) first as that is the mid...</td>\n",
       "    </tr>\n",
       "    <tr>\n",
       "      <th>17</th>\n",
       "      <td>E</td>\n",
       "      <td>[A)2,200, B)2,640, C)6,160, D)8,800, E)10,800]</td>\n",
       "      <td>In a poll of 45,000 dentists, only 30 percent ...</td>\n",
       "      <td>Find those who responded to the poll -\\n45000 ...</td>\n",
       "    </tr>\n",
       "    <tr>\n",
       "      <th>18</th>\n",
       "      <td>B</td>\n",
       "      <td>[A)50.05%, B)50.25%, C)50.5%, D)51%, E)52.5%]</td>\n",
       "      <td>In recent Malta elections, in a particular con...</td>\n",
       "      <td>Difference of 500 means A got 250 votes above ...</td>\n",
       "    </tr>\n",
       "    <tr>\n",
       "      <th>19</th>\n",
       "      <td>B</td>\n",
       "      <td>[A)5%, B)4.5%, C)4%, D)2%, E)No gain]</td>\n",
       "      <td>Glenn gains 10% from selling her scarf at $44....</td>\n",
       "      <td>Glenn bought her scarf for 44/1.1 = $40\\nHer m...</td>\n",
       "    </tr>\n",
       "    <tr>\n",
       "      <th>20</th>\n",
       "      <td>A</td>\n",
       "      <td>[A)180, B)190, C)140, D)150, E)None of these]</td>\n",
       "      <td>A trader bought some books for Rs 8 each. The ...</td>\n",
       "      <td>15% of Rs 8 = Rs 1.2 i.e, No. of books = 216/1...</td>\n",
       "    </tr>\n",
       "    <tr>\n",
       "      <th>21</th>\n",
       "      <td>B</td>\n",
       "      <td>[A)$200, B)$400, C)$300, D)$500, E)$800]</td>\n",
       "      <td>Elliot has $1500 to buy a new laptop. His fath...</td>\n",
       "      <td>All the money elliot had\\n1500+600 = $2100\\nSp...</td>\n",
       "    </tr>\n",
       "    <tr>\n",
       "      <th>22</th>\n",
       "      <td>E</td>\n",
       "      <td>[A)500 candy bars, B)450 candy bars, C)510 can...</td>\n",
       "      <td>Bill's shop sells candy bars by the full case....</td>\n",
       "      <td>(80/100) * X + 96 = X\\n.80*X +96= X\\n96 = .20 ...</td>\n",
       "    </tr>\n",
       "    <tr>\n",
       "      <th>23</th>\n",
       "      <td>B</td>\n",
       "      <td>[A)2 times per year, B)once every 15 years, C)...</td>\n",
       "      <td>Lucy has enough money to go to Canada every 6 ...</td>\n",
       "      <td>Lucy's speed = 1/6 trips per year\\nLuke's spee...</td>\n",
       "    </tr>\n",
       "    <tr>\n",
       "      <th>24</th>\n",
       "      <td>C</td>\n",
       "      <td>[A)25, B)32, C)36, D)40, E)60]</td>\n",
       "      <td>A group of stock analysts had a contest. Each ...</td>\n",
       "      <td>There were a total of 6*30 = 180 picks made by...</td>\n",
       "    </tr>\n",
       "    <tr>\n",
       "      <th>25</th>\n",
       "      <td>C</td>\n",
       "      <td>[A)1hours, B)2hours, C)3hours, D)175 minutes, ...</td>\n",
       "      <td>Which is a longer period of time: 3 hours or 1...</td>\n",
       "      <td>convert 3 hours into minute\\n60 minutes x3 hou...</td>\n",
       "    </tr>\n",
       "    <tr>\n",
       "      <th>26</th>\n",
       "      <td>A</td>\n",
       "      <td>[A)-5 and 3, B)± 2, C)2 only, D)-3 and 5, E)3 ...</td>\n",
       "      <td>The root(s) of 15/(x2 - 4) – 2/(x - 2) = 1 is ...</td>\n",
       "      <td>15/(x2 - 4) – 2/(x - 2) = 1.\\n15/(x2 - 22) – 2...</td>\n",
       "    </tr>\n",
       "    <tr>\n",
       "      <th>27</th>\n",
       "      <td>D</td>\n",
       "      <td>[A)324, B)377, C)136, D)144, E)222]</td>\n",
       "      <td>A farming field can be ploughed by 6 tractors ...</td>\n",
       "      <td>If each of 66 tractors ploughed 120120 hectare...</td>\n",
       "    </tr>\n",
       "    <tr>\n",
       "      <th>28</th>\n",
       "      <td>E</td>\n",
       "      <td>[A)20, B)40, C)60, D)80, E)100]</td>\n",
       "      <td>On sports day, if 24 children were made to sta...</td>\n",
       "      <td>Each each child forms 10/24 of a column. Then,...</td>\n",
       "    </tr>\n",
       "    <tr>\n",
       "      <th>29</th>\n",
       "      <td>A</td>\n",
       "      <td>[A)Rs.16002, B)Rs.16004, C)Rs.16015, D)Rs.1600...</td>\n",
       "      <td>The salaries of Kiran, Prakash and Sanjay are ...</td>\n",
       "      <td>p+s=56000\\nlet us consider salaries of k,p,s s...</td>\n",
       "    </tr>\n",
       "    <tr>\n",
       "      <th>...</th>\n",
       "      <td>...</td>\n",
       "      <td>...</td>\n",
       "      <td>...</td>\n",
       "      <td>...</td>\n",
       "    </tr>\n",
       "    <tr>\n",
       "      <th>224</th>\n",
       "      <td>A</td>\n",
       "      <td>[A)$10,000, B)$15,000, C)$20,000, D)$25,000, E...</td>\n",
       "      <td>My company's funding allows for 5 employees. T...</td>\n",
       "      <td>5 people x $65,000 = $325,000.\\n$325,000 - $31...</td>\n",
       "    </tr>\n",
       "    <tr>\n",
       "      <th>225</th>\n",
       "      <td>B</td>\n",
       "      <td>[A)29.12, B)29.16, C)30.12, D)32.65, E)none of...</td>\n",
       "      <td>In 1978, a kg of paper was sold at Rs25/-. If ...</td>\n",
       "      <td>1.5%+6.5% = 8% (rate increase every year)\\n25*...</td>\n",
       "    </tr>\n",
       "    <tr>\n",
       "      <th>226</th>\n",
       "      <td>B</td>\n",
       "      <td>[A)Rs. 1943.40, B)Rs. 1934.40, C)Rs. 1394.40, ...</td>\n",
       "      <td>Find the cost of carpeting a room 13 m long an...</td>\n",
       "      <td>Area of the carpet = Area of the room = (13 * ...</td>\n",
       "    </tr>\n",
       "    <tr>\n",
       "      <th>227</th>\n",
       "      <td>E</td>\n",
       "      <td>[A)9, B)10, C)16, D)7, E)18]</td>\n",
       "      <td>The ratio of a numerator to denominator is 2:3...</td>\n",
       "      <td>The ratio of a numerator to denominator is 2:3...</td>\n",
       "    </tr>\n",
       "    <tr>\n",
       "      <th>228</th>\n",
       "      <td>A</td>\n",
       "      <td>[A)I only, B)II only, C)III only, D)I and II o...</td>\n",
       "      <td>At a casino, gamblers spin a number-wheel cont...</td>\n",
       "      <td>There are only 3 possibilities to choose from,...</td>\n",
       "    </tr>\n",
       "    <tr>\n",
       "      <th>229</th>\n",
       "      <td>A</td>\n",
       "      <td>[A)11, B)13, C)17, D)19, E)23]</td>\n",
       "      <td>One day in December 2015, three 2-digit prime ...</td>\n",
       "      <td>The numbers A, B, C belong a priori in the set...</td>\n",
       "    </tr>\n",
       "    <tr>\n",
       "      <th>230</th>\n",
       "      <td>E</td>\n",
       "      <td>[A)16%, B)25%, C)32%, D)49%, E)50 %]</td>\n",
       "      <td>John spent 72% of his budget on fruits ( inclu...</td>\n",
       "      <td>72% of his budget on fruits;\\n36% of his budge...</td>\n",
       "    </tr>\n",
       "    <tr>\n",
       "      <th>231</th>\n",
       "      <td>E</td>\n",
       "      <td>[A)1, B)3, C)4, D)5, E)7]</td>\n",
       "      <td>In a group of 18 children, there are twice as ...</td>\n",
       "      <td>as per the question !!\\ntotal number of boys =...</td>\n",
       "    </tr>\n",
       "    <tr>\n",
       "      <th>232</th>\n",
       "      <td>A</td>\n",
       "      <td>[A)2.16 hr, B)1.25 hr, C)1.5 hr, D)1.75 hr, E)...</td>\n",
       "      <td>A car is moving at the speed of 60 km per one ...</td>\n",
       "      <td>The speed of the car is 60 km/hr. The speed-di...</td>\n",
       "    </tr>\n",
       "    <tr>\n",
       "      <th>233</th>\n",
       "      <td>A</td>\n",
       "      <td>[A)41.75%, B)40%, C)30%, D)33.25%, E)42%]</td>\n",
       "      <td>A farmer is trying to grow the largest pumpkin...</td>\n",
       "      <td>(100%+35%)*(100%+5%) = 1.35*1.05 = 1.4175 whic...</td>\n",
       "    </tr>\n",
       "    <tr>\n",
       "      <th>234</th>\n",
       "      <td>D</td>\n",
       "      <td>[A)560, B)270, C)224, D)150, E)60]</td>\n",
       "      <td>Company X receives 16 applications for a job, ...</td>\n",
       "      <td>Out of the 16 applications, 6 are from present...</td>\n",
       "    </tr>\n",
       "    <tr>\n",
       "      <th>235</th>\n",
       "      <td>C</td>\n",
       "      <td>[A)6, B)15, C)12, D)10, E)8]</td>\n",
       "      <td>The measures of the interior angles taken in o...</td>\n",
       "      <td>Let n denote the number of sides of the polygo...</td>\n",
       "    </tr>\n",
       "    <tr>\n",
       "      <th>236</th>\n",
       "      <td>D</td>\n",
       "      <td>[A)$2, B)$4, C)$5, D)$6, E)$8]</td>\n",
       "      <td>An oculist charges $30.00 for an eye examinati...</td>\n",
       "      <td>The difference between the charges is due to p...</td>\n",
       "    </tr>\n",
       "    <tr>\n",
       "      <th>237</th>\n",
       "      <td>E</td>\n",
       "      <td>[A)2000, B)2200, C)2400, D)2600, E)2900]</td>\n",
       "      <td>A salon spa loyalty program magazine charges a...</td>\n",
       "      <td>Assuming they had x subscribers last year\\nthe...</td>\n",
       "    </tr>\n",
       "    <tr>\n",
       "      <th>238</th>\n",
       "      <td>C</td>\n",
       "      <td>[A)10/23, B)12/23, C)11/23, D)13/23, E)15/23]</td>\n",
       "      <td>A picks a number from the bag where the bag co...</td>\n",
       "      <td>If Ram draws 1, then Sam can draw anything fro...</td>\n",
       "    </tr>\n",
       "    <tr>\n",
       "      <th>239</th>\n",
       "      <td>C</td>\n",
       "      <td>[A)3, B)15, C)7, D)8, E)9]</td>\n",
       "      <td>Ram has 12 pennies. He lost 5 of his pennies, ...</td>\n",
       "      <td>If Ram starts with 12 pennies and loses 5, he ...</td>\n",
       "    </tr>\n",
       "    <tr>\n",
       "      <th>240</th>\n",
       "      <td>E</td>\n",
       "      <td>[A)8., B)7.5., C)7., D)6.5., E)6.]</td>\n",
       "      <td>A green lizard can travel from the green cave ...</td>\n",
       "      <td>Time taken by green lizard to cover half dist=...</td>\n",
       "    </tr>\n",
       "    <tr>\n",
       "      <th>241</th>\n",
       "      <td>C</td>\n",
       "      <td>[A)125, B)225, C)325, D)425, E)400]</td>\n",
       "      <td>If an electricity bill is paid before due date...</td>\n",
       "      <td>Let amount of electricity bill = N\\n∴ 4% of N ...</td>\n",
       "    </tr>\n",
       "    <tr>\n",
       "      <th>242</th>\n",
       "      <td>C</td>\n",
       "      <td>[A)26, B)27, C)28, D)29, E)30]</td>\n",
       "      <td>How many hand shakes will be there, if 8 peopl...</td>\n",
       "      <td>No. of handshakes is n(n-1)/2\\n=&gt; 8(8-1)/2 == ...</td>\n",
       "    </tr>\n",
       "    <tr>\n",
       "      <th>243</th>\n",
       "      <td>A</td>\n",
       "      <td>[A)27, B)17, C)37, D)42, E)47]</td>\n",
       "      <td>A ticket to Disney land costs $24. Maria has b...</td>\n",
       "      <td>24*15=360\\n360-323=27\\nShe needs $27 more to b...</td>\n",
       "    </tr>\n",
       "    <tr>\n",
       "      <th>244</th>\n",
       "      <td>E</td>\n",
       "      <td>[A)66, B)88, C)100, D)120, E)132]</td>\n",
       "      <td>A salesman makes a 10% commission on the selli...</td>\n",
       "      <td>Commission per one switch: 6 * 0.10 = 0.60\\nTo...</td>\n",
       "    </tr>\n",
       "    <tr>\n",
       "      <th>245</th>\n",
       "      <td>B</td>\n",
       "      <td>[A)80%, B)60%, C)40%, D)100%, E)20%]</td>\n",
       "      <td>G and H are each equal to 20% of Z. If G, H, a...</td>\n",
       "      <td>if...\\nG=.2Z\\nH=.2Z\\nG+H+F=Z\\nthen...\\nZ=.2z+....</td>\n",
       "    </tr>\n",
       "    <tr>\n",
       "      <th>246</th>\n",
       "      <td>D</td>\n",
       "      <td>[A)5 hr, B)6 hr, C)7 hr, D)12 hr, E)20 hr]</td>\n",
       "      <td>When Mary paints a house, it takes her 4 hours...</td>\n",
       "      <td>Here, the rate equation becomes:\\n(# of houses...</td>\n",
       "    </tr>\n",
       "    <tr>\n",
       "      <th>247</th>\n",
       "      <td>A</td>\n",
       "      <td>[A)10, B)12, C)14, D)18, E)20]</td>\n",
       "      <td>Consider a school which consists of boys, girl...</td>\n",
       "      <td>Let number of boys = n\\nnumber of girls = 2n\\n...</td>\n",
       "    </tr>\n",
       "    <tr>\n",
       "      <th>248</th>\n",
       "      <td>E</td>\n",
       "      <td>[A)1.8 hours, B)6 hours, C)2.5 hours, D)4 hour...</td>\n",
       "      <td>I have an amazing bath tub having both hot and...</td>\n",
       "      <td>(1/4 + 1/6 - 1/12) ^ (-1)\\n= (1/3)^(-1) = 3</td>\n",
       "    </tr>\n",
       "    <tr>\n",
       "      <th>249</th>\n",
       "      <td>A</td>\n",
       "      <td>[A)7, B)5, C)4, D)2, E)8]</td>\n",
       "      <td>A man had 43 sheep. he wanted to divide them e...</td>\n",
       "      <td>Since he has 43 sheep and 6 children. The near...</td>\n",
       "    </tr>\n",
       "    <tr>\n",
       "      <th>250</th>\n",
       "      <td>D</td>\n",
       "      <td>[A)$71.98, B)$251.93, C)$287.92, D)$359.90, E)...</td>\n",
       "      <td>If a jewelry store wants to sell a necklace fo...</td>\n",
       "      <td>Let the price of necklace this week = p\\nDisco...</td>\n",
       "    </tr>\n",
       "    <tr>\n",
       "      <th>251</th>\n",
       "      <td>B</td>\n",
       "      <td>[A)35, B)36, C)37, D)38, E)39]</td>\n",
       "      <td>At a company meeting, M men and W women meet i...</td>\n",
       "      <td>M=2W/3\\nW+M=5W/3 &lt;= 64\\nW &lt;= 38.4\\nIf W=38, th...</td>\n",
       "    </tr>\n",
       "    <tr>\n",
       "      <th>252</th>\n",
       "      <td>A</td>\n",
       "      <td>[A)676000, B)676, C)100, D)6760, E)25]</td>\n",
       "      <td>A password needs to contain 2 letters and 3 nu...</td>\n",
       "      <td>Letters: 26x26= 676\\nNumbers: 10x10x10 = 1000\\...</td>\n",
       "    </tr>\n",
       "    <tr>\n",
       "      <th>253</th>\n",
       "      <td>A</td>\n",
       "      <td>[A)$5, B)$10, C)$21, D)$20, E)None of these]</td>\n",
       "      <td>In a end-of-season sale, the prices at a store...</td>\n",
       "      <td>Actual Cost of the item is $50\\n80% cut off on...</td>\n",
       "    </tr>\n",
       "  </tbody>\n",
       "</table>\n",
       "<p>254 rows × 4 columns</p>\n",
       "</div>"
      ],
      "text/plain": [
       "    correct                                            options  \\\n",
       "0         A            [A)32400, B)6000, C)600, D)60000, E)10]   \n",
       "1         D      [A)100 m, B)150 m, C)200 m, D)250 m, E)300 m]   \n",
       "2         C                      [A)6, B)18, C)24, D)36, E)48]   \n",
       "3         B      [A)(1,1), B)(0,3), C)(2,0), D)(3,6), E)(6,3)]   \n",
       "4         C                       [A)7, B)9, C)13, D)27, E)45]   \n",
       "5         B           [A)$895, B)$905, C)$910, D)$915, E)$945]   \n",
       "6         E           [A)$203, B)$202, C)$209, D)$205, E)$204]   \n",
       "7         B                     [A)5.5, B)6, C)7, D)8, E)8.25]   \n",
       "8         D              [A)300, B)420, C)912, D)1340, E)1500]   \n",
       "9         D  [A)30 litres, B)27 litres, C)25 litres, D)22.5...   \n",
       "10        B                     [A)15, B)27, C)14, D)12, E)20]   \n",
       "11        D                     [A)6, B)12, C)36, D)72, E)144]   \n",
       "12        B                       [A)8, B)9, C)10, D)11, E)12]   \n",
       "13        B  [A)6 hours, B)14.85 hours, C)12.1 hours, D)13....   \n",
       "14        B  [A)12 million, B)10 million, C)14 million, D)1...   \n",
       "15        A  [A)$68.00, B)$69.00, C)$70.00, D)$71.00, E)$72...   \n",
       "16        B                     [A)30, B)32, C)42, D)45, E)36]   \n",
       "17        E     [A)2,200, B)2,640, C)6,160, D)8,800, E)10,800]   \n",
       "18        B      [A)50.05%, B)50.25%, C)50.5%, D)51%, E)52.5%]   \n",
       "19        B              [A)5%, B)4.5%, C)4%, D)2%, E)No gain]   \n",
       "20        A      [A)180, B)190, C)140, D)150, E)None of these]   \n",
       "21        B           [A)$200, B)$400, C)$300, D)$500, E)$800]   \n",
       "22        E  [A)500 candy bars, B)450 candy bars, C)510 can...   \n",
       "23        B  [A)2 times per year, B)once every 15 years, C)...   \n",
       "24        C                     [A)25, B)32, C)36, D)40, E)60]   \n",
       "25        C  [A)1hours, B)2hours, C)3hours, D)175 minutes, ...   \n",
       "26        A  [A)-5 and 3, B)± 2, C)2 only, D)-3 and 5, E)3 ...   \n",
       "27        D                [A)324, B)377, C)136, D)144, E)222]   \n",
       "28        E                    [A)20, B)40, C)60, D)80, E)100]   \n",
       "29        A  [A)Rs.16002, B)Rs.16004, C)Rs.16015, D)Rs.1600...   \n",
       "..      ...                                                ...   \n",
       "224       A  [A)$10,000, B)$15,000, C)$20,000, D)$25,000, E...   \n",
       "225       B  [A)29.12, B)29.16, C)30.12, D)32.65, E)none of...   \n",
       "226       B  [A)Rs. 1943.40, B)Rs. 1934.40, C)Rs. 1394.40, ...   \n",
       "227       E                       [A)9, B)10, C)16, D)7, E)18]   \n",
       "228       A  [A)I only, B)II only, C)III only, D)I and II o...   \n",
       "229       A                     [A)11, B)13, C)17, D)19, E)23]   \n",
       "230       E               [A)16%, B)25%, C)32%, D)49%, E)50 %]   \n",
       "231       E                          [A)1, B)3, C)4, D)5, E)7]   \n",
       "232       A  [A)2.16 hr, B)1.25 hr, C)1.5 hr, D)1.75 hr, E)...   \n",
       "233       A          [A)41.75%, B)40%, C)30%, D)33.25%, E)42%]   \n",
       "234       D                 [A)560, B)270, C)224, D)150, E)60]   \n",
       "235       C                       [A)6, B)15, C)12, D)10, E)8]   \n",
       "236       D                     [A)$2, B)$4, C)$5, D)$6, E)$8]   \n",
       "237       E           [A)2000, B)2200, C)2400, D)2600, E)2900]   \n",
       "238       C      [A)10/23, B)12/23, C)11/23, D)13/23, E)15/23]   \n",
       "239       C                         [A)3, B)15, C)7, D)8, E)9]   \n",
       "240       E                 [A)8., B)7.5., C)7., D)6.5., E)6.]   \n",
       "241       C                [A)125, B)225, C)325, D)425, E)400]   \n",
       "242       C                     [A)26, B)27, C)28, D)29, E)30]   \n",
       "243       A                     [A)27, B)17, C)37, D)42, E)47]   \n",
       "244       E                  [A)66, B)88, C)100, D)120, E)132]   \n",
       "245       B               [A)80%, B)60%, C)40%, D)100%, E)20%]   \n",
       "246       D         [A)5 hr, B)6 hr, C)7 hr, D)12 hr, E)20 hr]   \n",
       "247       A                     [A)10, B)12, C)14, D)18, E)20]   \n",
       "248       E  [A)1.8 hours, B)6 hours, C)2.5 hours, D)4 hour...   \n",
       "249       A                          [A)7, B)5, C)4, D)2, E)8]   \n",
       "250       D  [A)$71.98, B)$251.93, C)$287.92, D)$359.90, E)...   \n",
       "251       B                     [A)35, B)36, C)37, D)38, E)39]   \n",
       "252       A             [A)676000, B)676, C)100, D)6760, E)25]   \n",
       "253       A       [A)$5, B)$10, C)$21, D)$20, E)None of these]   \n",
       "\n",
       "                                              question  \\\n",
       "0    Three birds are flying at a fast rate of 900 k...   \n",
       "1    A ship is leaving a port. It takes 240 seconds...   \n",
       "2    A rectangular piece of cloth 2 feet wide was c...   \n",
       "3    In the xy-coordinate plane, which of the follo...   \n",
       "4    A travel company wants to charter a plane to t...   \n",
       "5    Kirk sells cars. On two sales, Kirk has receiv...   \n",
       "6    A group of 5 friends were to contribute equall...   \n",
       "7    Let A, B and C denote the vertices of a triang...   \n",
       "8    ABC company pays an average of $120 per vehicl...   \n",
       "9    Solution A has 5% salt concentration and remai...   \n",
       "10   If a number of apples, say x, is divisible by ...   \n",
       "11   In how many arrangements can you arrange 3 gre...   \n",
       "12   In a mixture, the ratio of spirit and water is...   \n",
       "13   A car traveled 40 mph from Belnap to Lincoln a...   \n",
       "14   In a certain conservative mutual fund, 60 perc...   \n",
       "15   A certain state imposes a 4% tax on the nightl...   \n",
       "16   Alex has enough money to buy 30 bricks. If the...   \n",
       "17   In a poll of 45,000 dentists, only 30 percent ...   \n",
       "18   In recent Malta elections, in a particular con...   \n",
       "19   Glenn gains 10% from selling her scarf at $44....   \n",
       "20   A trader bought some books for Rs 8 each. The ...   \n",
       "21   Elliot has $1500 to buy a new laptop. His fath...   \n",
       "22   Bill's shop sells candy bars by the full case....   \n",
       "23   Lucy has enough money to go to Canada every 6 ...   \n",
       "24   A group of stock analysts had a contest. Each ...   \n",
       "25   Which is a longer period of time: 3 hours or 1...   \n",
       "26   The root(s) of 15/(x2 - 4) – 2/(x - 2) = 1 is ...   \n",
       "27   A farming field can be ploughed by 6 tractors ...   \n",
       "28   On sports day, if 24 children were made to sta...   \n",
       "29   The salaries of Kiran, Prakash and Sanjay are ...   \n",
       "..                                                 ...   \n",
       "224  My company's funding allows for 5 employees. T...   \n",
       "225  In 1978, a kg of paper was sold at Rs25/-. If ...   \n",
       "226  Find the cost of carpeting a room 13 m long an...   \n",
       "227  The ratio of a numerator to denominator is 2:3...   \n",
       "228  At a casino, gamblers spin a number-wheel cont...   \n",
       "229  One day in December 2015, three 2-digit prime ...   \n",
       "230  John spent 72% of his budget on fruits ( inclu...   \n",
       "231  In a group of 18 children, there are twice as ...   \n",
       "232  A car is moving at the speed of 60 km per one ...   \n",
       "233  A farmer is trying to grow the largest pumpkin...   \n",
       "234  Company X receives 16 applications for a job, ...   \n",
       "235  The measures of the interior angles taken in o...   \n",
       "236  An oculist charges $30.00 for an eye examinati...   \n",
       "237  A salon spa loyalty program magazine charges a...   \n",
       "238  A picks a number from the bag where the bag co...   \n",
       "239  Ram has 12 pennies. He lost 5 of his pennies, ...   \n",
       "240  A green lizard can travel from the green cave ...   \n",
       "241  If an electricity bill is paid before due date...   \n",
       "242  How many hand shakes will be there, if 8 peopl...   \n",
       "243  A ticket to Disney land costs $24. Maria has b...   \n",
       "244  A salesman makes a 10% commission on the selli...   \n",
       "245  G and H are each equal to 20% of Z. If G, H, a...   \n",
       "246  When Mary paints a house, it takes her 4 hours...   \n",
       "247  Consider a school which consists of boys, girl...   \n",
       "248  I have an amazing bath tub having both hot and...   \n",
       "249  A man had 43 sheep. he wanted to divide them e...   \n",
       "250  If a jewelry store wants to sell a necklace fo...   \n",
       "251  At a company meeting, M men and W women meet i...   \n",
       "252  A password needs to contain 2 letters and 3 nu...   \n",
       "253  In a end-of-season sale, the prices at a store...   \n",
       "\n",
       "                                             rationale  \n",
       "0    To calculate the equivalent of miles in a kilo...  \n",
       "1    Let the length of the ship be x metres and its...  \n",
       "2    The question says, length of shorter piece is ...  \n",
       "3    For a point to satisfy the given equation for ...  \n",
       "4    Additional passengers (i.e., an integer, let's...  \n",
       "5    Let X be the third value.\\n850 + 705 + X = 820...  \n",
       "6    At the non-discounted price, each friend would...  \n",
       "7    First, note that 4AFD and 4AFE have the same a...  \n",
       "8    This means it could go out sometimes and it co...  \n",
       "9    Before Evaporation:\\nSalt : 5% of 50 litre = 2...  \n",
       "10   The numbers are 3 and 9\\n3=1*3\\n9=3*3\\nThe fac...  \n",
       "11   BGBGBG or GBGBGB --> 2 ways,\\nBoth 3 B's and 3...  \n",
       "12   Let amount of spirit be 3x. and water=2x.\\n3x-...  \n",
       "13   The whole trip was 660 miles. which means one ...  \n",
       "14   Let x be the total money or value of the mutua...  \n",
       "15   Total charge for a room for one night was $72....  \n",
       "16   Test answer choice B) first as that is the mid...  \n",
       "17   Find those who responded to the poll -\\n45000 ...  \n",
       "18   Difference of 500 means A got 250 votes above ...  \n",
       "19   Glenn bought her scarf for 44/1.1 = $40\\nHer m...  \n",
       "20   15% of Rs 8 = Rs 1.2 i.e, No. of books = 216/1...  \n",
       "21   All the money elliot had\\n1500+600 = $2100\\nSp...  \n",
       "22   (80/100) * X + 96 = X\\n.80*X +96= X\\n96 = .20 ...  \n",
       "23   Lucy's speed = 1/6 trips per year\\nLuke's spee...  \n",
       "24   There were a total of 6*30 = 180 picks made by...  \n",
       "25   convert 3 hours into minute\\n60 minutes x3 hou...  \n",
       "26   15/(x2 - 4) – 2/(x - 2) = 1.\\n15/(x2 - 22) – 2...  \n",
       "27   If each of 66 tractors ploughed 120120 hectare...  \n",
       "28   Each each child forms 10/24 of a column. Then,...  \n",
       "29   p+s=56000\\nlet us consider salaries of k,p,s s...  \n",
       "..                                                 ...  \n",
       "224  5 people x $65,000 = $325,000.\\n$325,000 - $31...  \n",
       "225  1.5%+6.5% = 8% (rate increase every year)\\n25*...  \n",
       "226  Area of the carpet = Area of the room = (13 * ...  \n",
       "227  The ratio of a numerator to denominator is 2:3...  \n",
       "228  There are only 3 possibilities to choose from,...  \n",
       "229  The numbers A, B, C belong a priori in the set...  \n",
       "230  72% of his budget on fruits;\\n36% of his budge...  \n",
       "231  as per the question !!\\ntotal number of boys =...  \n",
       "232  The speed of the car is 60 km/hr. The speed-di...  \n",
       "233  (100%+35%)*(100%+5%) = 1.35*1.05 = 1.4175 whic...  \n",
       "234  Out of the 16 applications, 6 are from present...  \n",
       "235  Let n denote the number of sides of the polygo...  \n",
       "236  The difference between the charges is due to p...  \n",
       "237  Assuming they had x subscribers last year\\nthe...  \n",
       "238  If Ram draws 1, then Sam can draw anything fro...  \n",
       "239  If Ram starts with 12 pennies and loses 5, he ...  \n",
       "240  Time taken by green lizard to cover half dist=...  \n",
       "241  Let amount of electricity bill = N\\n∴ 4% of N ...  \n",
       "242  No. of handshakes is n(n-1)/2\\n=> 8(8-1)/2 == ...  \n",
       "243  24*15=360\\n360-323=27\\nShe needs $27 more to b...  \n",
       "244  Commission per one switch: 6 * 0.10 = 0.60\\nTo...  \n",
       "245  if...\\nG=.2Z\\nH=.2Z\\nG+H+F=Z\\nthen...\\nZ=.2z+....  \n",
       "246  Here, the rate equation becomes:\\n(# of houses...  \n",
       "247  Let number of boys = n\\nnumber of girls = 2n\\n...  \n",
       "248        (1/4 + 1/6 - 1/12) ^ (-1)\\n= (1/3)^(-1) = 3  \n",
       "249  Since he has 43 sheep and 6 children. The near...  \n",
       "250  Let the price of necklace this week = p\\nDisco...  \n",
       "251  M=2W/3\\nW+M=5W/3 <= 64\\nW <= 38.4\\nIf W=38, th...  \n",
       "252  Letters: 26x26= 676\\nNumbers: 10x10x10 = 1000\\...  \n",
       "253  Actual Cost of the item is $50\\n80% cut off on...  \n",
       "\n",
       "[254 rows x 4 columns]"
      ]
     },
     "execution_count": 165,
     "metadata": {},
     "output_type": "execute_result"
    }
   ],
   "source": [
    "data"
   ]
  },
  {
   "cell_type": "code",
   "execution_count": 166,
   "metadata": {},
   "outputs": [],
   "source": [
    "n, c = data.shape"
   ]
  },
  {
   "cell_type": "code",
   "execution_count": 167,
   "metadata": {},
   "outputs": [],
   "source": [
    "data['spatial representations'] = [0 for i in range(n)]\n",
    "data['counting and operation'] = [0 for i in range(n)]\n",
    "data['logical problem solving'] = [0 for i in range(n)]"
   ]
  },
  {
   "cell_type": "code",
   "execution_count": 168,
   "metadata": {},
   "outputs": [
    {
     "data": {
      "text/plain": [
       "'Let the distance between the two stations be x km.\\nThen, x⁄50 - 10⁄60 = x⁄30 - 50⁄60\\n⇒ x⁄50 - 1⁄6 = x⁄30 - 5⁄6\\nor x⁄30 - x⁄50 = 2⁄3 or x = 50 km\\nAnswer B'"
      ]
     },
     "execution_count": 168,
     "metadata": {},
     "output_type": "execute_result"
    }
   ],
   "source": [
    "data['rationale'][61]"
   ]
  },
  {
   "cell_type": "code",
   "execution_count": 169,
   "metadata": {},
   "outputs": [],
   "source": [
    "data.loc[61,'counting and operation'] = 1"
   ]
  },
  {
   "cell_type": "code",
   "execution_count": 170,
   "metadata": {},
   "outputs": [
    {
     "data": {
      "text/plain": [
       "'First number =(50*2)=100.\\nsecond number=(50*100/100)=50.\\nCorrect Option:A'"
      ]
     },
     "execution_count": 170,
     "metadata": {},
     "output_type": "execute_result"
    }
   ],
   "source": [
    "data['rationale'][62]"
   ]
  },
  {
   "cell_type": "code",
   "execution_count": 171,
   "metadata": {},
   "outputs": [],
   "source": [
    "data.loc[62,'counting and operation'] = 1"
   ]
  },
  {
   "cell_type": "code",
   "execution_count": 172,
   "metadata": {},
   "outputs": [
    {
     "data": {
      "text/plain": [
       "'Removing Bert and Ernie the list will have 10 people\\nQuestion now becomes choose 9 out of 10\\n10! / 1!*9!\\n= 10\\nthere are 10 ways to do so.\\nANS: D'"
      ]
     },
     "execution_count": 172,
     "metadata": {},
     "output_type": "execute_result"
    }
   ],
   "source": [
    "data['rationale'][63]"
   ]
  },
  {
   "cell_type": "code",
   "execution_count": 173,
   "metadata": {},
   "outputs": [],
   "source": [
    "data.loc[63,'logical problem solving'] = 1"
   ]
  },
  {
   "cell_type": "code",
   "execution_count": 174,
   "metadata": {},
   "outputs": [
    {
     "data": {
      "text/plain": [
       "'There are N numbers of gold biscuits in the house, in which four people are lived. If the first men woke up and divided the biscuits into 5 equal piles and found one extra biscuit. He took one of those piles along with the extra biscuit and hid them. He then gathered the 4 remaining piles into a big pile, woke up the second person and went to sleep. Each of the other 3 persons did the same one by one i.e. divided the big pile into 5 equal piles and found one extra biscuit. Each hid one of the piles along with the extra biscuit and gathered the remaining 4 piles into a big pile. If N>1000, what could be the least value of N?'"
      ]
     },
     "execution_count": 174,
     "metadata": {},
     "output_type": "execute_result"
    }
   ],
   "source": [
    "data['question'][64]"
   ]
  },
  {
   "cell_type": "code",
   "execution_count": 175,
   "metadata": {},
   "outputs": [],
   "source": [
    "data.loc[64,'logical problem solving'] = 1"
   ]
  },
  {
   "cell_type": "code",
   "execution_count": 176,
   "metadata": {},
   "outputs": [
    {
     "data": {
      "text/plain": [
       "\"Avg age of 1st 7 people tot/7=21\\ntot=147\\nTotal after Vijay's arrival 147+29 = 176/8= 22\\nAfter Marry's arrival 176+29= 205\\nAfter Nikhils'  arrival the mean increased to 30\\nLet Nikhil's age be x\\n205+x/10=30\\n205+x=300\\nx=95\\nANSWER:B\""
      ]
     },
     "execution_count": 176,
     "metadata": {},
     "output_type": "execute_result"
    }
   ],
   "source": [
    "data['rationale'][65]"
   ]
  },
  {
   "cell_type": "code",
   "execution_count": 177,
   "metadata": {},
   "outputs": [],
   "source": [
    "data.loc[65,'logical problem solving'] = 1"
   ]
  },
  {
   "cell_type": "code",
   "execution_count": 178,
   "metadata": {},
   "outputs": [
    {
     "data": {
      "text/plain": [
       "'Marla starts running around a circular track at the same time Nick starts walking around the same circular track. Marla completes 32 laps around the track per hour and Nick completes 12 laps around the track per hour. How many minutes after Marla and Nick begin moving will Marla have completed 5 more laps around the track than Nick?'"
      ]
     },
     "execution_count": 178,
     "metadata": {},
     "output_type": "execute_result"
    }
   ],
   "source": [
    "data['question'][66]"
   ]
  },
  {
   "cell_type": "code",
   "execution_count": 179,
   "metadata": {},
   "outputs": [],
   "source": [
    "data.loc[66,'counting and operation'] = 1"
   ]
  },
  {
   "cell_type": "code",
   "execution_count": 180,
   "metadata": {},
   "outputs": [
    {
     "data": {
      "text/plain": [
       "'Current ages of Yuvaraj = 4A and\\nGanguly = 3A\\nSo that 4A + 6 = 26\\nA = 5\\nCurrent age of Ganguly = 3(A)\\n=> 3 x 5 =15 years'"
      ]
     },
     "execution_count": 180,
     "metadata": {},
     "output_type": "execute_result"
    }
   ],
   "source": [
    "data['rationale'][67]"
   ]
  },
  {
   "cell_type": "code",
   "execution_count": 181,
   "metadata": {},
   "outputs": [],
   "source": [
    "data.loc[67,'counting and operation'] = 1"
   ]
  },
  {
   "cell_type": "code",
   "execution_count": 182,
   "metadata": {},
   "outputs": [
    {
     "data": {
      "text/plain": [
       "'A man says that he gained 10 percent as profit in selling a suitable cloth material. He says if he had purchased the same one 10 percent cheaper than it was actual and if he had sold it for 20% profit he gets 25paise less. find at what price he sold the suit?'"
      ]
     },
     "execution_count": 182,
     "metadata": {},
     "output_type": "execute_result"
    }
   ],
   "source": [
    "data['question'][68]"
   ]
  },
  {
   "cell_type": "code",
   "execution_count": 183,
   "metadata": {},
   "outputs": [],
   "source": [
    "data.loc[68,'counting and operation'] = 1"
   ]
  },
  {
   "cell_type": "code",
   "execution_count": 184,
   "metadata": {},
   "outputs": [
    {
     "data": {
      "text/plain": [
       "\"Tanya's grandfather was 8 times older to her 16 years ago. He would be 3 times of her age 8 years from now. What was ratio of ages of Tanya and her grandfather 8 years ago.\""
      ]
     },
     "execution_count": 184,
     "metadata": {},
     "output_type": "execute_result"
    }
   ],
   "source": [
    "data['question'][69]"
   ]
  },
  {
   "cell_type": "code",
   "execution_count": 185,
   "metadata": {},
   "outputs": [],
   "source": [
    "data.loc[69,'counting and operation'] = 1"
   ]
  },
  {
   "cell_type": "code",
   "execution_count": 186,
   "metadata": {},
   "outputs": [
    {
     "data": {
      "text/plain": [
       "'The least possible value of |89 - 9a|, where a is an integer, is'"
      ]
     },
     "execution_count": 186,
     "metadata": {},
     "output_type": "execute_result"
    }
   ],
   "source": [
    "data['question'][70]"
   ]
  },
  {
   "cell_type": "code",
   "execution_count": 187,
   "metadata": {},
   "outputs": [],
   "source": [
    "data.loc[70,'logical problem solving'] = 1"
   ]
  },
  {
   "cell_type": "code",
   "execution_count": 188,
   "metadata": {},
   "outputs": [
    {
     "data": {
      "text/plain": [
       "\"As its 6-3, totally 9 games were played.\\nRafa served first so he served 5 games among which 2 were won by Roger.\\nRoger served second so he served 4 games among which 3 were won by Rafa.\\nSo, totally 5 games were won by the player who did not serve.\\nAlso Rafa won 6 -> 3 from his serve and 3 from Roger's serve.\\nRoger won 3 -> 1 from his serve and 2 from Rafa's serve.\\nANSWER:A\""
      ]
     },
     "execution_count": 188,
     "metadata": {},
     "output_type": "execute_result"
    }
   ],
   "source": [
    "data['rationale'][71]"
   ]
  },
  {
   "cell_type": "code",
   "execution_count": 189,
   "metadata": {},
   "outputs": [],
   "source": [
    "data.loc[71,'logical problem solving'] = 1"
   ]
  },
  {
   "cell_type": "code",
   "execution_count": 190,
   "metadata": {},
   "outputs": [
    {
     "data": {
      "text/plain": [
       "'Ashish is given Rs. 158 in one-rupee denominations. He has been asked to allocate them into a number of bags such that any amount required between Re 1 and Rs. 158 can be given by handing out a certain number of bags without opening them. What is the minimum number of bags required?'"
      ]
     },
     "execution_count": 190,
     "metadata": {},
     "output_type": "execute_result"
    }
   ],
   "source": [
    "data['question'][72]"
   ]
  },
  {
   "cell_type": "code",
   "execution_count": 191,
   "metadata": {},
   "outputs": [],
   "source": [
    "data.loc[72,'logical problem solving'] = 1"
   ]
  },
  {
   "cell_type": "code",
   "execution_count": 192,
   "metadata": {},
   "outputs": [
    {
     "data": {
      "text/plain": [
       "'Last year Sahara, Tata, Singhania and Birla each has 250 industries. This year everyone has sold out 10 factories due to the recession of the economy and poor turnout. The average number of industries which of them now has'"
      ]
     },
     "execution_count": 192,
     "metadata": {},
     "output_type": "execute_result"
    }
   ],
   "source": [
    "data['question'][73]"
   ]
  },
  {
   "cell_type": "code",
   "execution_count": 193,
   "metadata": {},
   "outputs": [],
   "source": [
    "data.loc[73,'counting and operation'] = 1"
   ]
  },
  {
   "cell_type": "code",
   "execution_count": 194,
   "metadata": {},
   "outputs": [
    {
     "data": {
      "text/plain": [
       "'Which of the following is the equation of a line that goes through the point (10,5) and has an x-intercept of 5.'"
      ]
     },
     "execution_count": 194,
     "metadata": {},
     "output_type": "execute_result"
    }
   ],
   "source": [
    "data['question'][74]"
   ]
  },
  {
   "cell_type": "code",
   "execution_count": 195,
   "metadata": {},
   "outputs": [],
   "source": [
    "data.loc[74,'spatial representations'] = 1"
   ]
  },
  {
   "cell_type": "code",
   "execution_count": 196,
   "metadata": {},
   "outputs": [
    {
     "data": {
      "text/plain": [
       "'In a mixture of milk and water, there is only 26% water. After replacing the mixture with 7 liters of pure milk, the percentage of milk in the mixture become 76%. The quantity of the mixture is:'"
      ]
     },
     "execution_count": 196,
     "metadata": {},
     "output_type": "execute_result"
    }
   ],
   "source": [
    "data['question'][75]"
   ]
  },
  {
   "cell_type": "code",
   "execution_count": 197,
   "metadata": {},
   "outputs": [],
   "source": [
    "data.loc[75,'counting and operation'] = 1"
   ]
  },
  {
   "cell_type": "code",
   "execution_count": 198,
   "metadata": {},
   "outputs": [
    {
     "data": {
      "text/plain": [
       "'The least perfect square number, exactly divisible by 21, 36 and 56 is?'"
      ]
     },
     "execution_count": 198,
     "metadata": {},
     "output_type": "execute_result"
    }
   ],
   "source": [
    "data['question'][76]"
   ]
  },
  {
   "cell_type": "code",
   "execution_count": 199,
   "metadata": {},
   "outputs": [],
   "source": [
    "data.loc[76,'logical problem solving'] = 1"
   ]
  },
  {
   "cell_type": "code",
   "execution_count": 200,
   "metadata": {},
   "outputs": [
    {
     "data": {
      "text/plain": [
       "'Mr. X died when his age was 1/59th of year of birth. What was his date of birth?'"
      ]
     },
     "execution_count": 200,
     "metadata": {},
     "output_type": "execute_result"
    }
   ],
   "source": [
    "data['question'][77]"
   ]
  },
  {
   "cell_type": "code",
   "execution_count": 201,
   "metadata": {},
   "outputs": [],
   "source": [
    "data.loc[77,'counting and operation'] = 1"
   ]
  },
  {
   "cell_type": "code",
   "execution_count": 202,
   "metadata": {},
   "outputs": [
    {
     "data": {
      "text/plain": [
       "'Santa had 50 gifts and there were 21 children, and each of them had to receive at least 2 gifts , so santa should have given 42 gifts in total, but instead he gave 4 gifts to some of them.\\nIt means, he gave 8 more gifts in pairs of 2 i.e. he had 4 pairs of gifts. That means, 4 children got 4 gifts.\\nVerification:\\n17 children got only 2 gifts i.e. 17 * 2 = 34 gifts.\\n4 children got 4 gifts each, so : 4 * 4 = 16 gifts\\nTotal is 50.'"
      ]
     },
     "execution_count": 202,
     "metadata": {},
     "output_type": "execute_result"
    }
   ],
   "source": [
    "data['rationale'][78]"
   ]
  },
  {
   "cell_type": "code",
   "execution_count": 203,
   "metadata": {},
   "outputs": [],
   "source": [
    "data.loc[78,'logical problem solving'] = 1"
   ]
  },
  {
   "cell_type": "code",
   "execution_count": 204,
   "metadata": {},
   "outputs": [
    {
     "data": {
      "text/plain": [
       "'The ratio of A’s and B’s salary is 9 : 4. If A’s salary is increased by 15%, then his total salary becomes 5175. What is the salary of B?'"
      ]
     },
     "execution_count": 204,
     "metadata": {},
     "output_type": "execute_result"
    }
   ],
   "source": [
    "data['question'][79]"
   ]
  },
  {
   "cell_type": "code",
   "execution_count": 205,
   "metadata": {},
   "outputs": [],
   "source": [
    "data.loc[79,'counting and operation'] = 1"
   ]
  },
  {
   "cell_type": "code",
   "execution_count": 206,
   "metadata": {},
   "outputs": [
    {
     "data": {
      "text/plain": [
       "'Of two numbers, 4 times the smaller one is less then 3 times the larger one by 5. If the sum of the numbers is larger than 6 times their difference by 6, find the two numbers.'"
      ]
     },
     "execution_count": 206,
     "metadata": {},
     "output_type": "execute_result"
    }
   ],
   "source": [
    "data['question'][80]"
   ]
  },
  {
   "cell_type": "code",
   "execution_count": 207,
   "metadata": {},
   "outputs": [],
   "source": [
    "data.loc[80,'logical problem solving'] = 1"
   ]
  },
  {
   "cell_type": "code",
   "execution_count": 208,
   "metadata": {},
   "outputs": [
    {
     "data": {
      "text/plain": [
       "'Cost of 3 cricket balls = cost of 2 pairs of leg pads. Cost of 3 pairs of leg pads = cost of 2 pairs of gloves. Cost of 3 pairs of gloves = cost of 2 cricket bats. If a cricket bat costs Rs 54, what is the cost of a cricket ball?'"
      ]
     },
     "execution_count": 208,
     "metadata": {},
     "output_type": "execute_result"
    }
   ],
   "source": [
    "data['question'][81]"
   ]
  },
  {
   "cell_type": "code",
   "execution_count": 209,
   "metadata": {},
   "outputs": [],
   "source": [
    "data.loc[81,'counting and operation'] = 1"
   ]
  },
  {
   "cell_type": "code",
   "execution_count": 210,
   "metadata": {},
   "outputs": [
    {
     "data": {
      "text/plain": [
       "'Peter piper picked a pack of pickled peppers according to the function Y=(1/X)*X^3-7. If X=3 how many pickled peppers did he pick?'"
      ]
     },
     "execution_count": 210,
     "metadata": {},
     "output_type": "execute_result"
    }
   ],
   "source": [
    "data['question'][82]"
   ]
  },
  {
   "cell_type": "code",
   "execution_count": 211,
   "metadata": {},
   "outputs": [],
   "source": [
    "data.loc[82,'counting and operation'] = 1"
   ]
  },
  {
   "cell_type": "code",
   "execution_count": 212,
   "metadata": {},
   "outputs": [
    {
     "data": {
      "text/plain": [
       "'John invested $100 in each of the funds A and B. After one year, the value of the money in fund A was $10 higher than the value of the money in fund B. After another year, the value of the money in fund A was $25 higher than the value of the money in fund B. If the value of the money in each fund increased by a fixed interest compounded annually, what was the annual interest of fund A?'"
      ]
     },
     "execution_count": 212,
     "metadata": {},
     "output_type": "execute_result"
    }
   ],
   "source": [
    "data['question'][83]"
   ]
  },
  {
   "cell_type": "code",
   "execution_count": 213,
   "metadata": {},
   "outputs": [],
   "source": [
    "data.loc[83,'logical problem solving'] = 1"
   ]
  },
  {
   "cell_type": "code",
   "execution_count": 214,
   "metadata": {},
   "outputs": [
    {
     "data": {
      "text/plain": [
       "'If P represents a single digit in the four digit number x=18P6, how many different values of P are there such that x is divisible by 8?'"
      ]
     },
     "execution_count": 214,
     "metadata": {},
     "output_type": "execute_result"
    }
   ],
   "source": [
    "data['question'][84]"
   ]
  },
  {
   "cell_type": "code",
   "execution_count": 215,
   "metadata": {},
   "outputs": [],
   "source": [
    "data.loc[84,'logical problem solving'] = 1"
   ]
  },
  {
   "cell_type": "code",
   "execution_count": 216,
   "metadata": {},
   "outputs": [
    {
     "data": {
      "text/plain": [
       "'Vegetables contains 68% water and green vegetables contains 20% water. How much green vegetables can be obtained from 100 kg of Vegetables ?'"
      ]
     },
     "execution_count": 216,
     "metadata": {},
     "output_type": "execute_result"
    }
   ],
   "source": [
    "data['question'][85]"
   ]
  },
  {
   "cell_type": "code",
   "execution_count": 217,
   "metadata": {},
   "outputs": [],
   "source": [
    "data.loc[85,'logical problem solving'] = 1"
   ]
  },
  {
   "cell_type": "code",
   "execution_count": 218,
   "metadata": {},
   "outputs": [
    {
     "data": {
      "text/plain": [
       "'M is a set of even numbers from 1 to 23 and odd numbers from 24 to 100. Find no. of zeroes in the sum of all values in the set.'"
      ]
     },
     "execution_count": 218,
     "metadata": {},
     "output_type": "execute_result"
    }
   ],
   "source": [
    "data['question'][86]"
   ]
  },
  {
   "cell_type": "code",
   "execution_count": 219,
   "metadata": {},
   "outputs": [],
   "source": [
    "data.loc[86,'logical problem solving'] = 1"
   ]
  },
  {
   "cell_type": "code",
   "execution_count": 220,
   "metadata": {},
   "outputs": [
    {
     "data": {
      "text/plain": [
       "'Total number of donuts sold and given away in a week =K =(K/2 + K/2)=(sold + free)\\ncost of each donut =$0.25\\nnumber of free donuts in a week= 0.25*K/2=K/8\\nin 10 weeks time 10*K/8 =5K/4\\nAnswer :B'"
      ]
     },
     "execution_count": 220,
     "metadata": {},
     "output_type": "execute_result"
    }
   ],
   "source": [
    "data['rationale'][87]"
   ]
  },
  {
   "cell_type": "code",
   "execution_count": 221,
   "metadata": {},
   "outputs": [],
   "source": [
    "data.loc[87,'counting and operation'] = 1"
   ]
  },
  {
   "cell_type": "code",
   "execution_count": 222,
   "metadata": {},
   "outputs": [
    {
     "data": {
      "text/plain": [
       "'The mean proportional between 45 and a certain number is three times the mean proportional between 5 and 22. The number is ?'"
      ]
     },
     "execution_count": 222,
     "metadata": {},
     "output_type": "execute_result"
    }
   ],
   "source": [
    "data['question'][88]"
   ]
  },
  {
   "cell_type": "code",
   "execution_count": 223,
   "metadata": {},
   "outputs": [],
   "source": [
    "data.loc[88,'counting and operation'] = 1"
   ]
  },
  {
   "cell_type": "code",
   "execution_count": 224,
   "metadata": {},
   "outputs": [
    {
     "data": {
      "text/plain": [
       "'x contains 85% water and 15% oil; how many more liters of water than liters of oil are in 200 liters of solution x?'"
      ]
     },
     "execution_count": 224,
     "metadata": {},
     "output_type": "execute_result"
    }
   ],
   "source": [
    "data['question'][89]"
   ]
  },
  {
   "cell_type": "code",
   "execution_count": 225,
   "metadata": {},
   "outputs": [],
   "source": [
    "data.loc[89,'counting and operation'] = 1"
   ]
  },
  {
   "cell_type": "code",
   "execution_count": 226,
   "metadata": {},
   "outputs": [
    {
     "data": {
      "text/plain": [
       "'Let the number of innings played in England be x.\\n∴ Total runs scored in England = 46x\\nTotal runs scored for innings played in India\\n= 55 × 4 = 220\\n(∵ the number of innings played in India = 4)\\nAlso, 46x+220/x+4 = 48\\n⇒ 46x + 220 = 48 x + 192\\n⇒ 2x = 28\\n⇒ x = 14\\nAnswer C'"
      ]
     },
     "execution_count": 226,
     "metadata": {},
     "output_type": "execute_result"
    }
   ],
   "source": [
    "data['rationale'][90]"
   ]
  },
  {
   "cell_type": "code",
   "execution_count": 227,
   "metadata": {},
   "outputs": [],
   "source": [
    "data.loc[90,'logical problem solving'] = 1"
   ]
  },
  {
   "cell_type": "code",
   "execution_count": 228,
   "metadata": {},
   "outputs": [
    {
     "data": {
      "text/plain": [
       "'Mr. Bean chooses a number and he keeps on doubling the number followed by subtracting one from it, if he chooses 3 as initial number and he repeats the operation for 30 times then what is the final result?'"
      ]
     },
     "execution_count": 228,
     "metadata": {},
     "output_type": "execute_result"
    }
   ],
   "source": [
    "data['question'][91]"
   ]
  },
  {
   "cell_type": "code",
   "execution_count": 229,
   "metadata": {},
   "outputs": [],
   "source": [
    "data.loc[91,'counting and operation'] = 1"
   ]
  },
  {
   "cell_type": "code",
   "execution_count": 230,
   "metadata": {},
   "outputs": [
    {
     "data": {
      "text/plain": [
       "'P=S.I.*100 /R*T\\nSo, by putting values from the question we can get the answer\\nP=4016.25*100/9*5=8925\\nOption B'"
      ]
     },
     "execution_count": 230,
     "metadata": {},
     "output_type": "execute_result"
    }
   ],
   "source": [
    "data['rationale'][92]"
   ]
  },
  {
   "cell_type": "code",
   "execution_count": 231,
   "metadata": {},
   "outputs": [],
   "source": [
    "data.loc[92,'logical problem solving'] = 1"
   ]
  },
  {
   "cell_type": "code",
   "execution_count": 232,
   "metadata": {},
   "outputs": [
    {
     "data": {
      "text/plain": [
       "'As the given coin is a fair coin, the last 4 tosses are independent of the first 2, so we would expect heads 2 out of the 4 tosses left. Thus making the total 4 heads out of the 6 tosses.\\nAnswer:C'"
      ]
     },
     "execution_count": 232,
     "metadata": {},
     "output_type": "execute_result"
    }
   ],
   "source": [
    "data['rationale'][93]"
   ]
  },
  {
   "cell_type": "code",
   "execution_count": 233,
   "metadata": {},
   "outputs": [],
   "source": [
    "data.loc[93,'logical problem solving'] = 1"
   ]
  },
  {
   "cell_type": "code",
   "execution_count": 234,
   "metadata": {},
   "outputs": [
    {
     "data": {
      "text/plain": [
       "'Let side of square be x.\\nThen for rectangle length = 14 + x and breadth = x.\\nIt is given\\nArea of rectangle = 2 × (area of square)\\nlength × breadth = 2(x × x)\\n(x + 14) × x = 2 × x2\\nx2 + 14x = 2x2\\nx2 = 14x\\nx = 14.\\nPerimeter of square = 4 × x = 56\\nAnswer: C'"
      ]
     },
     "execution_count": 234,
     "metadata": {},
     "output_type": "execute_result"
    }
   ],
   "source": [
    "data['rationale'][94]"
   ]
  },
  {
   "cell_type": "code",
   "execution_count": 235,
   "metadata": {},
   "outputs": [],
   "source": [
    "data.loc[94,'spatial representations'] = 1"
   ]
  },
  {
   "cell_type": "code",
   "execution_count": 236,
   "metadata": {},
   "outputs": [
    {
     "data": {
      "text/plain": [
       "'In a shipment of 120 machine parts, 5 percent were defective. In a shipment of 80 machine parts, 10 percent were defective. For the two shipments combined, what percent of the machine parts were defective?'"
      ]
     },
     "execution_count": 236,
     "metadata": {},
     "output_type": "execute_result"
    }
   ],
   "source": [
    "data['question'][95]"
   ]
  },
  {
   "cell_type": "code",
   "execution_count": 237,
   "metadata": {},
   "outputs": [],
   "source": [
    "data.loc[95,'counting and operation'] = 1"
   ]
  },
  {
   "cell_type": "code",
   "execution_count": 238,
   "metadata": {},
   "outputs": [
    {
     "data": {
      "text/plain": [
       "'12/(x+1) = 12/x -1\\n=>x = -4 or 3\\n=> x = 3 as price cannot be negative.\\n=> price per liter at local store = 12/3 = 4\\nAnswer B.'"
      ]
     },
     "execution_count": 238,
     "metadata": {},
     "output_type": "execute_result"
    }
   ],
   "source": [
    "data['rationale'][96]"
   ]
  },
  {
   "cell_type": "code",
   "execution_count": 239,
   "metadata": {},
   "outputs": [],
   "source": [
    "data.loc[96,'counting and operation'] = 1"
   ]
  },
  {
   "cell_type": "code",
   "execution_count": 240,
   "metadata": {},
   "outputs": [
    {
     "data": {
      "text/plain": [
       "'W has x red and y blue. V has a red and b blue\\nlength(x)=length(a) = length(x)*x + length(y)*y / x+y + 19 = length(a)*a+length(b)*b/a+b + 6\\nshifting terms, we get the first term minus second term is 6+19=25\\nD'"
      ]
     },
     "execution_count": 240,
     "metadata": {},
     "output_type": "execute_result"
    }
   ],
   "source": [
    "data['rationale'][97]"
   ]
  },
  {
   "cell_type": "code",
   "execution_count": 241,
   "metadata": {},
   "outputs": [],
   "source": [
    "data.loc[97,'spatial representations'] = 1"
   ]
  },
  {
   "cell_type": "code",
   "execution_count": 242,
   "metadata": {},
   "outputs": [
    {
     "data": {
      "text/plain": [
       "\"A circular gear with a diameter of 25 cm is mounted directly over another circular gear with a diameter of 100 cm. Both gears run on the same axle at their exact centers and each gear has a single notch at the 12 o'clock position. At the same moment, the gears start to rotate at the same rate in cm/s, with the larger gear moving clockwise and the smaller gear moving anticlockwise.\\nHow far in centimeters will the notch on the larger gear have moved the second time the notches pass each other?\""
      ]
     },
     "execution_count": 242,
     "metadata": {},
     "output_type": "execute_result"
    }
   ],
   "source": [
    "data['question'][98]"
   ]
  },
  {
   "cell_type": "code",
   "execution_count": 243,
   "metadata": {},
   "outputs": [],
   "source": [
    "data.loc[98,'spatial representations'] = 1"
   ]
  },
  {
   "cell_type": "code",
   "execution_count": 244,
   "metadata": {},
   "outputs": [
    {
     "data": {
      "text/plain": [
       "'A college has 10 basketball players. A 5-member team and a captain will be selected out of these 10 players. How many different selections can be made?'"
      ]
     },
     "execution_count": 244,
     "metadata": {},
     "output_type": "execute_result"
    }
   ],
   "source": [
    "data['question'][99]"
   ]
  },
  {
   "cell_type": "code",
   "execution_count": 245,
   "metadata": {},
   "outputs": [],
   "source": [
    "data.loc[99,'logical problem solving'] = 1"
   ]
  },
  {
   "cell_type": "code",
   "execution_count": 246,
   "metadata": {},
   "outputs": [
    {
     "data": {
      "text/plain": [
       "'A canteen requires 62 kgs of wheat for 6 days. How many kgs of wheat will it require for 60 days?'"
      ]
     },
     "execution_count": 246,
     "metadata": {},
     "output_type": "execute_result"
    }
   ],
   "source": [
    "data['question'][100]"
   ]
  },
  {
   "cell_type": "code",
   "execution_count": 247,
   "metadata": {},
   "outputs": [],
   "source": [
    "data.loc[100,'counting and operation'] = 1"
   ]
  },
  {
   "cell_type": "code",
   "execution_count": 248,
   "metadata": {},
   "outputs": [
    {
     "data": {
      "text/plain": [
       "'sp=4200\\nprofit=33.33%=(100+33.33)=133.33\\ncp=(100*4200)/133.33\\n=3150.07 (cp for 2 t-shirt)\\nso cp for 1t-shirt= 1575.04\\nANSWER:A'"
      ]
     },
     "execution_count": 248,
     "metadata": {},
     "output_type": "execute_result"
    }
   ],
   "source": [
    "data['rationale'][101]"
   ]
  },
  {
   "cell_type": "code",
   "execution_count": 249,
   "metadata": {},
   "outputs": [],
   "source": [
    "data.loc[101,'counting and operation'] = 1"
   ]
  },
  {
   "cell_type": "code",
   "execution_count": 250,
   "metadata": {},
   "outputs": [
    {
     "data": {
      "text/plain": [
       "'Let the ages of Promila and Jenilia 1 year ago be 4x and x years, respectively.\\nThen, [(4x + 1) + 6] - [(x + 1) + 6] = 9 ⇔ 3x = 9 ⇔ x = 3.\\n∴ Required ratio = (4x + 1) : (x + 1) = 13:4.\\nAnswer A'"
      ]
     },
     "execution_count": 250,
     "metadata": {},
     "output_type": "execute_result"
    }
   ],
   "source": [
    "data['rationale'][102]"
   ]
  },
  {
   "cell_type": "code",
   "execution_count": 251,
   "metadata": {},
   "outputs": [],
   "source": [
    "data.loc[102,'counting and operation'] = 1"
   ]
  },
  {
   "cell_type": "code",
   "execution_count": 252,
   "metadata": {},
   "outputs": [
    {
     "data": {
      "text/plain": [
       "'Manoj left home for the bus stop 15 minutes earlier than the usual time. It takes 10 minutes to reach the stop. He reached the stop at 8.40 AM. What time does he usually leave home for the bus stop?'"
      ]
     },
     "execution_count": 252,
     "metadata": {},
     "output_type": "execute_result"
    }
   ],
   "source": [
    "data['question'][103]"
   ]
  },
  {
   "cell_type": "code",
   "execution_count": 253,
   "metadata": {},
   "outputs": [],
   "source": [
    "data.loc[103,'counting and operation'] = 1"
   ]
  },
  {
   "cell_type": "code",
   "execution_count": 254,
   "metadata": {},
   "outputs": [
    {
     "data": {
      "text/plain": [
       "22"
      ]
     },
     "execution_count": 254,
     "metadata": {},
     "output_type": "execute_result"
    }
   ],
   "source": [
    "data['counting and operation'].sum()"
   ]
  },
  {
   "cell_type": "code",
   "execution_count": 255,
   "metadata": {},
   "outputs": [
    {
     "data": {
      "text/plain": [
       "17"
      ]
     },
     "execution_count": 255,
     "metadata": {},
     "output_type": "execute_result"
    }
   ],
   "source": [
    "data['logical problem solving'].sum()"
   ]
  },
  {
   "cell_type": "code",
   "execution_count": 256,
   "metadata": {},
   "outputs": [
    {
     "data": {
      "text/plain": [
       "4"
      ]
     },
     "execution_count": 256,
     "metadata": {},
     "output_type": "execute_result"
    }
   ],
   "source": [
    "data['spatial representations'].sum()"
   ]
  },
  {
   "cell_type": "code",
   "execution_count": 257,
   "metadata": {},
   "outputs": [
    {
     "data": {
      "text/plain": [
       "'Alex has enough money to buy 30 bricks. If the bricks each cost 20 cents less, Grace could buy 10 more bricks. How much money does Grace have to spend on bricks?'"
      ]
     },
     "execution_count": 257,
     "metadata": {},
     "output_type": "execute_result"
    }
   ],
   "source": [
    "data['question'][16]"
   ]
  },
  {
   "cell_type": "code",
   "execution_count": 258,
   "metadata": {},
   "outputs": [],
   "source": [
    "data.loc[16,'logical problem solving'] = 1"
   ]
  },
  {
   "cell_type": "code",
   "execution_count": 259,
   "metadata": {},
   "outputs": [
    {
     "data": {
      "text/plain": [
       "'In a poll of 45,000 dentists, only 30 percent responded; of these, 20 percent claimed to prefer Toothpaste A. How many of the dentists who responded did not claim a preference for Toothpaste A?'"
      ]
     },
     "execution_count": 259,
     "metadata": {},
     "output_type": "execute_result"
    }
   ],
   "source": [
    "data['question'][17]"
   ]
  },
  {
   "cell_type": "code",
   "execution_count": 260,
   "metadata": {},
   "outputs": [],
   "source": [
    "data.loc[17,'logical problem solving'] = 1"
   ]
  },
  {
   "cell_type": "code",
   "execution_count": 261,
   "metadata": {},
   "outputs": [
    {
     "data": {
      "text/plain": [
       "'In recent Malta elections, in a particular constituency, 100,000 votes were cast and each vote was cast for\\neither Candidate A or Candidate B. If candidate A has won by 500 votes, what percent of the 100,000 votes\\nwere cast for Candidate A?'"
      ]
     },
     "execution_count": 261,
     "metadata": {},
     "output_type": "execute_result"
    }
   ],
   "source": [
    "data['question'][18]"
   ]
  },
  {
   "cell_type": "code",
   "execution_count": 262,
   "metadata": {},
   "outputs": [],
   "source": [
    "data.loc[18,'logical problem solving'] = 1"
   ]
  },
  {
   "cell_type": "code",
   "execution_count": 263,
   "metadata": {},
   "outputs": [
    {
     "data": {
      "text/plain": [
       "\"Glenn gains 10% from selling her scarf at $44. Her mom tells her she'll buy it from her but only after a family discount of 5%. What is Glenn's gain percent if she sells the scarf to her mom?\""
      ]
     },
     "execution_count": 263,
     "metadata": {},
     "output_type": "execute_result"
    }
   ],
   "source": [
    "data['question'][19]"
   ]
  },
  {
   "cell_type": "code",
   "execution_count": 264,
   "metadata": {},
   "outputs": [],
   "source": [
    "data.loc[19,'logical problem solving'] = 1"
   ]
  },
  {
   "cell_type": "code",
   "execution_count": 265,
   "metadata": {},
   "outputs": [
    {
     "data": {
      "text/plain": [
       "'15% of Rs 8 = Rs 1.2 i.e, No. of books = 216/1.2 = 180\\nAnswer : A'"
      ]
     },
     "execution_count": 265,
     "metadata": {},
     "output_type": "execute_result"
    }
   ],
   "source": [
    "data['rationale'][20]"
   ]
  },
  {
   "cell_type": "code",
   "execution_count": 266,
   "metadata": {},
   "outputs": [],
   "source": [
    "data.loc[20,'counting and operation'] = 1"
   ]
  },
  {
   "cell_type": "code",
   "execution_count": 267,
   "metadata": {},
   "outputs": [
    {
     "data": {
      "text/plain": [
       "'Elliot has $1500 to buy a new laptop. His father gave him another $600 for a better model. Elliot saw a new mobile and he decided to by it for 400$. Also, he bought a laptop for $1300\\nHow much money had Elliot left with?'"
      ]
     },
     "execution_count": 267,
     "metadata": {},
     "output_type": "execute_result"
    }
   ],
   "source": [
    "data['question'][21]"
   ]
  },
  {
   "cell_type": "code",
   "execution_count": 268,
   "metadata": {},
   "outputs": [],
   "source": [
    "data.loc[21,'counting and operation'] = 1"
   ]
  },
  {
   "cell_type": "code",
   "execution_count": 269,
   "metadata": {},
   "outputs": [
    {
     "data": {
      "text/plain": [
       "'(80/100) * X + 96 = X\\n.80*X +96= X\\n96 = .20 * X\\nX = 480\\nAnswer: E'"
      ]
     },
     "execution_count": 269,
     "metadata": {},
     "output_type": "execute_result"
    }
   ],
   "source": [
    "data['rationale'][22]"
   ]
  },
  {
   "cell_type": "code",
   "execution_count": 270,
   "metadata": {},
   "outputs": [],
   "source": [
    "data.loc[22,'counting and operation'] = 1"
   ]
  },
  {
   "cell_type": "code",
   "execution_count": 271,
   "metadata": {},
   "outputs": [
    {
     "data": {
      "text/plain": [
       "\"Lucy's speed = 1/6 trips per year\\nLuke's speed = 1/9 trips per year\\nLucy + Luke's speed= (1/6 + 1/9) = 5/18 trips per year\\ncorrect option is B\""
      ]
     },
     "execution_count": 271,
     "metadata": {},
     "output_type": "execute_result"
    }
   ],
   "source": [
    "data['rationale'][23]"
   ]
  },
  {
   "cell_type": "code",
   "execution_count": 272,
   "metadata": {},
   "outputs": [],
   "source": [
    "data.loc[23,'logical problem solving'] = 1"
   ]
  },
  {
   "cell_type": "code",
   "execution_count": 273,
   "metadata": {},
   "outputs": [
    {
     "data": {
      "text/plain": [
       "'A group of stock analysts had a contest. Each analyst picked 5 stocks out of a list of 30 stocks to purchase. If each of the stocks was picked exactly 6 times, how many analysts were in the contest?'"
      ]
     },
     "execution_count": 273,
     "metadata": {},
     "output_type": "execute_result"
    }
   ],
   "source": [
    "data['question'][24]"
   ]
  },
  {
   "cell_type": "code",
   "execution_count": 274,
   "metadata": {},
   "outputs": [],
   "source": [
    "data.loc[24,'logical problem solving'] = 1"
   ]
  },
  {
   "cell_type": "code",
   "execution_count": 275,
   "metadata": {},
   "outputs": [
    {
     "data": {
      "text/plain": [
       "'Which is a longer period of time: 3 hours or 175 minutes?'"
      ]
     },
     "execution_count": 275,
     "metadata": {},
     "output_type": "execute_result"
    }
   ],
   "source": [
    "data['question'][25]"
   ]
  },
  {
   "cell_type": "code",
   "execution_count": 276,
   "metadata": {},
   "outputs": [],
   "source": [
    "data.loc[25,'counting and operation'] = 1"
   ]
  },
  {
   "cell_type": "code",
   "execution_count": 277,
   "metadata": {},
   "outputs": [
    {
     "data": {
      "text/plain": [
       "'15/(x2 - 4) – 2/(x - 2) = 1.\\n15/(x2 - 22) – 2/(x - 2) = 1.\\n15/(x + 2)(x - 2) – 2/(x - 2) = 1.\\n[15 – 2(x + 2)]/[(x + 2)(x - 2)] = 1.\\n[15 – 2x - 4] /[(x + 2)(x - 2)] = 1.\\n[11 - 2x]/[(x + 2)(x - 2)] = 1.\\n11 – 2x = (x + 2)(x - 2).\\n11 – 2x = x2 - 4.\\nx2 - 4 = 11 – 2x.\\nx2 + 2x – 4 – 11 = 0.\\nx2 + 2x – 15 = 0.\\nx + 5) (x - 3) = 0.\\nx + 5 = 0 or, x – 3 = 0\\nx = -5 or, x = 3.\\nTherefore, x = -5 and 3.\\nAnswer: A'"
      ]
     },
     "execution_count": 277,
     "metadata": {},
     "output_type": "execute_result"
    }
   ],
   "source": [
    "data['rationale'][26]"
   ]
  },
  {
   "cell_type": "code",
   "execution_count": 278,
   "metadata": {},
   "outputs": [],
   "source": [
    "data.loc[26,'logical problem solving'] = 1"
   ]
  },
  {
   "cell_type": "code",
   "execution_count": 279,
   "metadata": {},
   "outputs": [
    {
     "data": {
      "text/plain": [
       "'A farming field can be ploughed by 6 tractors in 4 days. When 6 tractors work together, each of them ploughs 120 hectares a day. If two of the tractors were moved to another field, then the remaining 4 tractors could plough the same field in 5 days. How many hectares a day would one tractor plough then?'"
      ]
     },
     "execution_count": 279,
     "metadata": {},
     "output_type": "execute_result"
    }
   ],
   "source": [
    "data['question'][27]"
   ]
  },
  {
   "cell_type": "code",
   "execution_count": 280,
   "metadata": {},
   "outputs": [],
   "source": [
    "data.loc[27,'logical problem solving'] = 1"
   ]
  },
  {
   "cell_type": "code",
   "execution_count": 281,
   "metadata": {},
   "outputs": [
    {
     "data": {
      "text/plain": [
       "'Each each child forms 10/24 of a column. Then, if there are 240 children, they could form 240*10/24=100 columns.\\nAnswer is E'"
      ]
     },
     "execution_count": 281,
     "metadata": {},
     "output_type": "execute_result"
    }
   ],
   "source": [
    "data['rationale'][28]"
   ]
  },
  {
   "cell_type": "code",
   "execution_count": 282,
   "metadata": {},
   "outputs": [],
   "source": [
    "data.loc[28,'counting and operation'] = 1"
   ]
  },
  {
   "cell_type": "code",
   "execution_count": 283,
   "metadata": {},
   "outputs": [
    {
     "data": {
      "text/plain": [
       "\"The salaries of Kiran, Prakash and Sanjay are in the ratio of 2 : 3 : 4. The salary of Prakash and Sanjay together is Rs. 56000. The manager plans to increment the salary of Prakash from his current package and does so by increasing his salary so that it is 1 rupee more than that of Sanjay. Now, if Kiran wishes to demand a salary that will surpass Prakash's by 1 Rupee, how much he should demand ?\""
      ]
     },
     "execution_count": 283,
     "metadata": {},
     "output_type": "execute_result"
    }
   ],
   "source": [
    "data['question'][29]"
   ]
  },
  {
   "cell_type": "code",
   "execution_count": 284,
   "metadata": {},
   "outputs": [],
   "source": [
    "data.loc[29,'logical problem solving'] = 1"
   ]
  },
  {
   "cell_type": "code",
   "execution_count": 285,
   "metadata": {},
   "outputs": [
    {
     "data": {
      "text/plain": [
       "'A wholesaler allows a discount of 20 % on the list price to the retailer. The retailer sells at 5% below the list price. If the customer pays Rs.19 for an article what profit is made by the retailer on it?'"
      ]
     },
     "execution_count": 285,
     "metadata": {},
     "output_type": "execute_result"
    }
   ],
   "source": [
    "data['question'][30]"
   ]
  },
  {
   "cell_type": "code",
   "execution_count": 286,
   "metadata": {},
   "outputs": [],
   "source": [
    "data.loc[30,'logical problem solving'] = 1"
   ]
  },
  {
   "cell_type": "code",
   "execution_count": 287,
   "metadata": {},
   "outputs": [
    {
     "data": {
      "text/plain": [
       "'Three birds are flying at a fast rate of 900 kilometers per hour. What is their speed in miles per minute? [1km = 0.6 miles]'"
      ]
     },
     "execution_count": 287,
     "metadata": {},
     "output_type": "execute_result"
    }
   ],
   "source": [
    "data['question'][0]"
   ]
  },
  {
   "cell_type": "code",
   "execution_count": 288,
   "metadata": {},
   "outputs": [],
   "source": [
    "data.loc[0,'counting and operation'] = 1"
   ]
  },
  {
   "cell_type": "code",
   "execution_count": 289,
   "metadata": {},
   "outputs": [
    {
     "data": {
      "text/plain": [
       "28"
      ]
     },
     "execution_count": 289,
     "metadata": {},
     "output_type": "execute_result"
    }
   ],
   "source": [
    "data['counting and operation'].sum()"
   ]
  },
  {
   "cell_type": "code",
   "execution_count": 290,
   "metadata": {},
   "outputs": [
    {
     "data": {
      "text/plain": [
       "27"
      ]
     },
     "execution_count": 290,
     "metadata": {},
     "output_type": "execute_result"
    }
   ],
   "source": [
    "data['logical problem solving'].sum()"
   ]
  },
  {
   "cell_type": "code",
   "execution_count": 291,
   "metadata": {},
   "outputs": [
    {
     "data": {
      "text/plain": [
       "4"
      ]
     },
     "execution_count": 291,
     "metadata": {},
     "output_type": "execute_result"
    }
   ],
   "source": [
    "data['spatial representations'].sum()"
   ]
  },
  {
   "cell_type": "markdown",
   "metadata": {},
   "source": [
    "Here I load the job of Niema and Ada."
   ]
  },
  {
   "cell_type": "code",
   "execution_count": 292,
   "metadata": {},
   "outputs": [],
   "source": [
    "data2 = pd.read_csv('maths_questions.csv')"
   ]
  },
  {
   "cell_type": "code",
   "execution_count": 293,
   "metadata": {},
   "outputs": [
    {
     "data": {
      "text/html": [
       "<div>\n",
       "<style scoped>\n",
       "    .dataframe tbody tr th:only-of-type {\n",
       "        vertical-align: middle;\n",
       "    }\n",
       "\n",
       "    .dataframe tbody tr th {\n",
       "        vertical-align: top;\n",
       "    }\n",
       "\n",
       "    .dataframe thead th {\n",
       "        text-align: right;\n",
       "    }\n",
       "</style>\n",
       "<table border=\"1\" class=\"dataframe\">\n",
       "  <thead>\n",
       "    <tr style=\"text-align: right;\">\n",
       "      <th></th>\n",
       "      <th>correct</th>\n",
       "      <th>options</th>\n",
       "      <th>question</th>\n",
       "      <th>rationale</th>\n",
       "      <th>Spatial Representation</th>\n",
       "      <th>Counting and operation</th>\n",
       "      <th>Logical problem solving</th>\n",
       "    </tr>\n",
       "  </thead>\n",
       "  <tbody>\n",
       "    <tr>\n",
       "      <th>0</th>\n",
       "      <td>A</td>\n",
       "      <td>['A)32400', 'B)6000', 'C)600', 'D)60000', 'E)10']</td>\n",
       "      <td>Three birds are flying at a fast rate of 900 k...</td>\n",
       "      <td>To calculate the equivalent of miles in a kilo...</td>\n",
       "      <td>0</td>\n",
       "      <td>0</td>\n",
       "      <td>0</td>\n",
       "    </tr>\n",
       "    <tr>\n",
       "      <th>1</th>\n",
       "      <td>D</td>\n",
       "      <td>['A)100 m', 'B)150 m', 'C)200 m', 'D)250 m', '...</td>\n",
       "      <td>A ship is leaving a port. It takes 240 seconds...</td>\n",
       "      <td>Let the length of the ship be x metres and its...</td>\n",
       "      <td>1</td>\n",
       "      <td>0</td>\n",
       "      <td>0</td>\n",
       "    </tr>\n",
       "    <tr>\n",
       "      <th>2</th>\n",
       "      <td>C</td>\n",
       "      <td>['A)6', 'B)18', 'C)24', 'D)36', 'E)48']</td>\n",
       "      <td>A rectangular piece of cloth 2 feet wide was c...</td>\n",
       "      <td>The question says, length of shorter piece is ...</td>\n",
       "      <td>1</td>\n",
       "      <td>0</td>\n",
       "      <td>0</td>\n",
       "    </tr>\n",
       "    <tr>\n",
       "      <th>3</th>\n",
       "      <td>B</td>\n",
       "      <td>['A)(1,1)', 'B)(0,3)', 'C)(2,0)', 'D)(3,6)', '...</td>\n",
       "      <td>In the xy-coordinate plane, which of the follo...</td>\n",
       "      <td>For a point to satisfy the given equation for ...</td>\n",
       "      <td>1</td>\n",
       "      <td>0</td>\n",
       "      <td>0</td>\n",
       "    </tr>\n",
       "    <tr>\n",
       "      <th>4</th>\n",
       "      <td>C</td>\n",
       "      <td>['A)7', 'B)9', 'C)13', 'D)27', 'E)45']</td>\n",
       "      <td>A travel company wants to charter a plane to t...</td>\n",
       "      <td>Additional passengers (i.e., an integer, let's...</td>\n",
       "      <td>0</td>\n",
       "      <td>0</td>\n",
       "      <td>1</td>\n",
       "    </tr>\n",
       "  </tbody>\n",
       "</table>\n",
       "</div>"
      ],
      "text/plain": [
       "  correct                                            options  \\\n",
       "0       A  ['A)32400', 'B)6000', 'C)600', 'D)60000', 'E)10']   \n",
       "1       D  ['A)100 m', 'B)150 m', 'C)200 m', 'D)250 m', '...   \n",
       "2       C            ['A)6', 'B)18', 'C)24', 'D)36', 'E)48']   \n",
       "3       B  ['A)(1,1)', 'B)(0,3)', 'C)(2,0)', 'D)(3,6)', '...   \n",
       "4       C             ['A)7', 'B)9', 'C)13', 'D)27', 'E)45']   \n",
       "\n",
       "                                            question  \\\n",
       "0  Three birds are flying at a fast rate of 900 k...   \n",
       "1  A ship is leaving a port. It takes 240 seconds...   \n",
       "2  A rectangular piece of cloth 2 feet wide was c...   \n",
       "3  In the xy-coordinate plane, which of the follo...   \n",
       "4  A travel company wants to charter a plane to t...   \n",
       "\n",
       "                                           rationale  Spatial Representation  \\\n",
       "0  To calculate the equivalent of miles in a kilo...                       0   \n",
       "1  Let the length of the ship be x metres and its...                       1   \n",
       "2  The question says, length of shorter piece is ...                       1   \n",
       "3  For a point to satisfy the given equation for ...                       1   \n",
       "4  Additional passengers (i.e., an integer, let's...                       0   \n",
       "\n",
       "   Counting and operation  Logical problem solving  \n",
       "0                       0                        0  \n",
       "1                       0                        0  \n",
       "2                       0                        0  \n",
       "3                       0                        0  \n",
       "4                       0                        1  "
      ]
     },
     "execution_count": 293,
     "metadata": {},
     "output_type": "execute_result"
    }
   ],
   "source": [
    "data2.head()"
   ]
  },
  {
   "cell_type": "code",
   "execution_count": 294,
   "metadata": {},
   "outputs": [],
   "source": [
    "counting = pd.DataFrame({'1': data['counting and operation'].tolist(), '2':data2['Counting and operation'].tolist()})"
   ]
  },
  {
   "cell_type": "code",
   "execution_count": 295,
   "metadata": {},
   "outputs": [
    {
     "data": {
      "text/html": [
       "<div>\n",
       "<style scoped>\n",
       "    .dataframe tbody tr th:only-of-type {\n",
       "        vertical-align: middle;\n",
       "    }\n",
       "\n",
       "    .dataframe tbody tr th {\n",
       "        vertical-align: top;\n",
       "    }\n",
       "\n",
       "    .dataframe thead th {\n",
       "        text-align: right;\n",
       "    }\n",
       "</style>\n",
       "<table border=\"1\" class=\"dataframe\">\n",
       "  <thead>\n",
       "    <tr style=\"text-align: right;\">\n",
       "      <th></th>\n",
       "      <th>1</th>\n",
       "      <th>2</th>\n",
       "    </tr>\n",
       "  </thead>\n",
       "  <tbody>\n",
       "    <tr>\n",
       "      <th>0</th>\n",
       "      <td>1</td>\n",
       "      <td>0</td>\n",
       "    </tr>\n",
       "    <tr>\n",
       "      <th>1</th>\n",
       "      <td>0</td>\n",
       "      <td>0</td>\n",
       "    </tr>\n",
       "    <tr>\n",
       "      <th>2</th>\n",
       "      <td>0</td>\n",
       "      <td>0</td>\n",
       "    </tr>\n",
       "    <tr>\n",
       "      <th>3</th>\n",
       "      <td>0</td>\n",
       "      <td>0</td>\n",
       "    </tr>\n",
       "    <tr>\n",
       "      <th>4</th>\n",
       "      <td>0</td>\n",
       "      <td>0</td>\n",
       "    </tr>\n",
       "  </tbody>\n",
       "</table>\n",
       "</div>"
      ],
      "text/plain": [
       "   1  2\n",
       "0  1  0\n",
       "1  0  0\n",
       "2  0  0\n",
       "3  0  0\n",
       "4  0  0"
      ]
     },
     "execution_count": 295,
     "metadata": {},
     "output_type": "execute_result"
    }
   ],
   "source": [
    "counting.head()"
   ]
  },
  {
   "cell_type": "code",
   "execution_count": 296,
   "metadata": {},
   "outputs": [],
   "source": [
    "data['counting and operation'] = counting.max(axis=1)"
   ]
  },
  {
   "cell_type": "code",
   "execution_count": 297,
   "metadata": {},
   "outputs": [],
   "source": [
    "logical = pd.DataFrame({'1': data['logical problem solving'].tolist(), '2':data2['Logical problem solving'].tolist()})\n",
    "data['logical problem solving'] = logical.max(axis=1)"
   ]
  },
  {
   "cell_type": "code",
   "execution_count": 298,
   "metadata": {},
   "outputs": [],
   "source": [
    "logical = pd.DataFrame({'1': data['spatial representations'].tolist(), '2':data2['Spatial Representation'].tolist()})\n",
    "data['spatial representations'] = logical.max(axis=1)"
   ]
  },
  {
   "cell_type": "code",
   "execution_count": 299,
   "metadata": {},
   "outputs": [
    {
     "data": {
      "text/plain": [
       "'If a quarter kilogram costs Rs.60 then how much will cost for 150 grams?'"
      ]
     },
     "execution_count": 299,
     "metadata": {},
     "output_type": "execute_result"
    }
   ],
   "source": [
    "data['question'][104]"
   ]
  },
  {
   "cell_type": "code",
   "execution_count": 300,
   "metadata": {},
   "outputs": [],
   "source": [
    "data.loc[104,'counting and operation'] = 1"
   ]
  },
  {
   "cell_type": "code",
   "execution_count": 301,
   "metadata": {},
   "outputs": [
    {
     "data": {
      "text/plain": [
       "'A shop is offering discounts on shirts costing $20 each. If someone buys 2 shirts, he will be offered a discount of 15% on the first shirt and another 10% discount on the reduced price for the second shirt. How much would one pay for two shirts at this shop?'"
      ]
     },
     "execution_count": 301,
     "metadata": {},
     "output_type": "execute_result"
    }
   ],
   "source": [
    "data['question'][105]"
   ]
  },
  {
   "cell_type": "code",
   "execution_count": 302,
   "metadata": {},
   "outputs": [],
   "source": [
    "data.loc[105,'counting and operation'] = 1"
   ]
  },
  {
   "cell_type": "code",
   "execution_count": 303,
   "metadata": {},
   "outputs": [
    {
     "data": {
      "text/plain": [
       "53"
      ]
     },
     "execution_count": 303,
     "metadata": {},
     "output_type": "execute_result"
    }
   ],
   "source": [
    "data['counting and operation'].sum()"
   ]
  },
  {
   "cell_type": "code",
   "execution_count": 304,
   "metadata": {},
   "outputs": [
    {
     "data": {
      "text/plain": [
       "42"
      ]
     },
     "execution_count": 304,
     "metadata": {},
     "output_type": "execute_result"
    }
   ],
   "source": [
    "data['logical problem solving'].sum()"
   ]
  },
  {
   "cell_type": "code",
   "execution_count": 305,
   "metadata": {},
   "outputs": [
    {
     "data": {
      "text/plain": [
       "9"
      ]
     },
     "execution_count": 305,
     "metadata": {},
     "output_type": "execute_result"
    }
   ],
   "source": [
    "data['spatial representations'].sum()"
   ]
  },
  {
   "cell_type": "markdown",
   "metadata": {},
   "source": [
    "We will need to normalize our data before we can use it for label prediction."
   ]
  },
  {
   "cell_type": "code",
   "execution_count": 306,
   "metadata": {},
   "outputs": [],
   "source": [
    "data.to_csv('math_questions_handlabeled.csv', index=False)"
   ]
  },
  {
   "cell_type": "code",
   "execution_count": 307,
   "metadata": {},
   "outputs": [],
   "source": [
    "dt1 = pd.read_json('test.json', lines=True)"
   ]
  },
  {
   "cell_type": "code",
   "execution_count": 308,
   "metadata": {},
   "outputs": [
    {
     "data": {
      "text/plain": [
       "(254, 4)"
      ]
     },
     "execution_count": 308,
     "metadata": {},
     "output_type": "execute_result"
    }
   ],
   "source": [
    "dt1.shape"
   ]
  },
  {
   "cell_type": "code",
   "execution_count": 310,
   "metadata": {},
   "outputs": [],
   "source": [
    "n1, c1 = dt1.shape"
   ]
  },
  {
   "cell_type": "code",
   "execution_count": 311,
   "metadata": {},
   "outputs": [
    {
     "data": {
      "text/html": [
       "<div>\n",
       "<style scoped>\n",
       "    .dataframe tbody tr th:only-of-type {\n",
       "        vertical-align: middle;\n",
       "    }\n",
       "\n",
       "    .dataframe tbody tr th {\n",
       "        vertical-align: top;\n",
       "    }\n",
       "\n",
       "    .dataframe thead th {\n",
       "        text-align: right;\n",
       "    }\n",
       "</style>\n",
       "<table border=\"1\" class=\"dataframe\">\n",
       "  <thead>\n",
       "    <tr style=\"text-align: right;\">\n",
       "      <th></th>\n",
       "      <th>correct</th>\n",
       "      <th>options</th>\n",
       "      <th>question</th>\n",
       "      <th>rationale</th>\n",
       "    </tr>\n",
       "  </thead>\n",
       "  <tbody>\n",
       "    <tr>\n",
       "      <th>0</th>\n",
       "      <td>A</td>\n",
       "      <td>[A)5(√3 + 1), B)6(√3 + √2), C)7(√3 – 1), D)8(√...</td>\n",
       "      <td>A car is being driven, in a straight line and ...</td>\n",
       "      <td>Explanation :\\nLet the height of the building ...</td>\n",
       "    </tr>\n",
       "    <tr>\n",
       "      <th>1</th>\n",
       "      <td>E</td>\n",
       "      <td>[A)$61, B)$65, C)$67.40, D)$70, E)$78.20]</td>\n",
       "      <td>The original price of an item is discounted 22...</td>\n",
       "      <td>Let x be the original price of the item\\nDisco...</td>\n",
       "    </tr>\n",
       "    <tr>\n",
       "      <th>2</th>\n",
       "      <td>A</td>\n",
       "      <td>[A)36, B)15, C)17, D)5, E)7]</td>\n",
       "      <td>Find out which of the following values is the ...</td>\n",
       "      <td>9=3*3\\n12=3*4\\nThe number should definitely ha...</td>\n",
       "    </tr>\n",
       "    <tr>\n",
       "      <th>3</th>\n",
       "      <td>B</td>\n",
       "      <td>[A)0.22, B)0.26, C)0.37, D)0.46, E)0.63]</td>\n",
       "      <td>If the probability that Stock A will increase ...</td>\n",
       "      <td>The probability that stock A does not increase...</td>\n",
       "    </tr>\n",
       "    <tr>\n",
       "      <th>4</th>\n",
       "      <td>B</td>\n",
       "      <td>[A)270, B)300, C)280, D)320, E)315]</td>\n",
       "      <td>A trader sold an article at a profit of 20% fo...</td>\n",
       "      <td>Cost Price = Selling Price / (100+Profit%) × 1...</td>\n",
       "    </tr>\n",
       "  </tbody>\n",
       "</table>\n",
       "</div>"
      ],
      "text/plain": [
       "  correct                                            options  \\\n",
       "0       A  [A)5(√3 + 1), B)6(√3 + √2), C)7(√3 – 1), D)8(√...   \n",
       "1       E          [A)$61, B)$65, C)$67.40, D)$70, E)$78.20]   \n",
       "2       A                       [A)36, B)15, C)17, D)5, E)7]   \n",
       "3       B           [A)0.22, B)0.26, C)0.37, D)0.46, E)0.63]   \n",
       "4       B                [A)270, B)300, C)280, D)320, E)315]   \n",
       "\n",
       "                                            question  \\\n",
       "0  A car is being driven, in a straight line and ...   \n",
       "1  The original price of an item is discounted 22...   \n",
       "2  Find out which of the following values is the ...   \n",
       "3  If the probability that Stock A will increase ...   \n",
       "4  A trader sold an article at a profit of 20% fo...   \n",
       "\n",
       "                                           rationale  \n",
       "0  Explanation :\\nLet the height of the building ...  \n",
       "1  Let x be the original price of the item\\nDisco...  \n",
       "2  9=3*3\\n12=3*4\\nThe number should definitely ha...  \n",
       "3  The probability that stock A does not increase...  \n",
       "4  Cost Price = Selling Price / (100+Profit%) × 1...  "
      ]
     },
     "execution_count": 311,
     "metadata": {},
     "output_type": "execute_result"
    }
   ],
   "source": [
    "dt1.head()"
   ]
  },
  {
   "cell_type": "code",
   "execution_count": 313,
   "metadata": {},
   "outputs": [],
   "source": [
    "dt1['spatial representations'] = [0 for i in range(n1)]\n",
    "dt1['counting and operation'] = [0 for i in range(n1)]\n",
    "dt1['logical problem solving'] = [0 for i in range(n1)]"
   ]
  },
  {
   "cell_type": "code",
   "execution_count": 326,
   "metadata": {},
   "outputs": [],
   "source": [
    "dt2 = pd.read_json('train.json', lines=True)"
   ]
  },
  {
   "cell_type": "code",
   "execution_count": 327,
   "metadata": {},
   "outputs": [
    {
     "data": {
      "text/plain": [
       "(97467, 4)"
      ]
     },
     "execution_count": 327,
     "metadata": {},
     "output_type": "execute_result"
    }
   ],
   "source": [
    "dt2.shape"
   ]
  },
  {
   "cell_type": "code",
   "execution_count": 328,
   "metadata": {},
   "outputs": [],
   "source": [
    "n2, c2 = dt2.shape"
   ]
  },
  {
   "cell_type": "code",
   "execution_count": 329,
   "metadata": {},
   "outputs": [
    {
     "data": {
      "text/html": [
       "<div>\n",
       "<style scoped>\n",
       "    .dataframe tbody tr th:only-of-type {\n",
       "        vertical-align: middle;\n",
       "    }\n",
       "\n",
       "    .dataframe tbody tr th {\n",
       "        vertical-align: top;\n",
       "    }\n",
       "\n",
       "    .dataframe thead th {\n",
       "        text-align: right;\n",
       "    }\n",
       "</style>\n",
       "<table border=\"1\" class=\"dataframe\">\n",
       "  <thead>\n",
       "    <tr style=\"text-align: right;\">\n",
       "      <th></th>\n",
       "      <th>correct</th>\n",
       "      <th>options</th>\n",
       "      <th>question</th>\n",
       "      <th>rationale</th>\n",
       "    </tr>\n",
       "  </thead>\n",
       "  <tbody>\n",
       "    <tr>\n",
       "      <th>0</th>\n",
       "      <td>E</td>\n",
       "      <td>[A)21, B)21.5, C)22, D)22.5, E)23]</td>\n",
       "      <td>Two friends plan to walk along a 43-km trail, ...</td>\n",
       "      <td>If Q complete x kilometers, then P completes 1...</td>\n",
       "    </tr>\n",
       "    <tr>\n",
       "      <th>1</th>\n",
       "      <td>C</td>\n",
       "      <td>[A)4 and 1, B)1 and 5, C)5 and 1, D)3 and 5, E...</td>\n",
       "      <td>In the coordinate plane, points (x, 1) and (5,...</td>\n",
       "      <td>Line k passes through the origin and has slope...</td>\n",
       "    </tr>\n",
       "    <tr>\n",
       "      <th>2</th>\n",
       "      <td>B</td>\n",
       "      <td>[A)II, B)I and II, C)I and III, D)II and III, ...</td>\n",
       "      <td>For all numbers p and q, the operation @ is de...</td>\n",
       "      <td>p@q = p^2 - pq=p(p-q).... so p@q will be zero ...</td>\n",
       "    </tr>\n",
       "    <tr>\n",
       "      <th>3</th>\n",
       "      <td>A</td>\n",
       "      <td>[A)$1600, B)$2000, C)$2150, D)$2500, E)$12000]</td>\n",
       "      <td>Carl is facing very difficult financial times ...</td>\n",
       "      <td>Usually, you are given the annual rate of inte...</td>\n",
       "    </tr>\n",
       "    <tr>\n",
       "      <th>4</th>\n",
       "      <td>E</td>\n",
       "      <td>[A)18 seconds, B)27 seconds, C)26 seconds, D)1...</td>\n",
       "      <td>The speed at which a man can row a boat in sti...</td>\n",
       "      <td>Speed of the boat downstream = 25 +11\\n= 36 km...</td>\n",
       "    </tr>\n",
       "  </tbody>\n",
       "</table>\n",
       "</div>"
      ],
      "text/plain": [
       "  correct                                            options  \\\n",
       "0       E                 [A)21, B)21.5, C)22, D)22.5, E)23]   \n",
       "1       C  [A)4 and 1, B)1 and 5, C)5 and 1, D)3 and 5, E...   \n",
       "2       B  [A)II, B)I and II, C)I and III, D)II and III, ...   \n",
       "3       A     [A)$1600, B)$2000, C)$2150, D)$2500, E)$12000]   \n",
       "4       E  [A)18 seconds, B)27 seconds, C)26 seconds, D)1...   \n",
       "\n",
       "                                            question  \\\n",
       "0  Two friends plan to walk along a 43-km trail, ...   \n",
       "1  In the coordinate plane, points (x, 1) and (5,...   \n",
       "2  For all numbers p and q, the operation @ is de...   \n",
       "3  Carl is facing very difficult financial times ...   \n",
       "4  The speed at which a man can row a boat in sti...   \n",
       "\n",
       "                                           rationale  \n",
       "0  If Q complete x kilometers, then P completes 1...  \n",
       "1  Line k passes through the origin and has slope...  \n",
       "2  p@q = p^2 - pq=p(p-q).... so p@q will be zero ...  \n",
       "3  Usually, you are given the annual rate of inte...  \n",
       "4  Speed of the boat downstream = 25 +11\\n= 36 km...  "
      ]
     },
     "execution_count": 329,
     "metadata": {},
     "output_type": "execute_result"
    }
   ],
   "source": [
    "dt2.head()"
   ]
  },
  {
   "cell_type": "code",
   "execution_count": 330,
   "metadata": {},
   "outputs": [],
   "source": [
    "dt2['spatial representations'] = [0 for i in range(n2)]\n",
    "dt2['counting and operation'] = [0 for i in range(n2)]\n",
    "dt2['logical problem solving'] = [0 for i in range(n2)]"
   ]
  },
  {
   "cell_type": "code",
   "execution_count": 331,
   "metadata": {},
   "outputs": [],
   "source": [
    "final = pd.concat([data, dt1, dt2])"
   ]
  },
  {
   "cell_type": "code",
   "execution_count": 332,
   "metadata": {},
   "outputs": [
    {
     "data": {
      "text/plain": [
       "(97975, 7)"
      ]
     },
     "execution_count": 332,
     "metadata": {},
     "output_type": "execute_result"
    }
   ],
   "source": [
    "final.shape"
   ]
  },
  {
   "cell_type": "code",
   "execution_count": 333,
   "metadata": {},
   "outputs": [
    {
     "data": {
      "text/html": [
       "<div>\n",
       "<style scoped>\n",
       "    .dataframe tbody tr th:only-of-type {\n",
       "        vertical-align: middle;\n",
       "    }\n",
       "\n",
       "    .dataframe tbody tr th {\n",
       "        vertical-align: top;\n",
       "    }\n",
       "\n",
       "    .dataframe thead th {\n",
       "        text-align: right;\n",
       "    }\n",
       "</style>\n",
       "<table border=\"1\" class=\"dataframe\">\n",
       "  <thead>\n",
       "    <tr style=\"text-align: right;\">\n",
       "      <th></th>\n",
       "      <th>correct</th>\n",
       "      <th>options</th>\n",
       "      <th>question</th>\n",
       "      <th>rationale</th>\n",
       "      <th>spatial representations</th>\n",
       "      <th>counting and operation</th>\n",
       "      <th>logical problem solving</th>\n",
       "    </tr>\n",
       "  </thead>\n",
       "  <tbody>\n",
       "    <tr>\n",
       "      <th>0</th>\n",
       "      <td>A</td>\n",
       "      <td>[A)32400, B)6000, C)600, D)60000, E)10]</td>\n",
       "      <td>Three birds are flying at a fast rate of 900 k...</td>\n",
       "      <td>To calculate the equivalent of miles in a kilo...</td>\n",
       "      <td>0</td>\n",
       "      <td>1</td>\n",
       "      <td>0</td>\n",
       "    </tr>\n",
       "    <tr>\n",
       "      <th>1</th>\n",
       "      <td>D</td>\n",
       "      <td>[A)100 m, B)150 m, C)200 m, D)250 m, E)300 m]</td>\n",
       "      <td>A ship is leaving a port. It takes 240 seconds...</td>\n",
       "      <td>Let the length of the ship be x metres and its...</td>\n",
       "      <td>1</td>\n",
       "      <td>0</td>\n",
       "      <td>0</td>\n",
       "    </tr>\n",
       "    <tr>\n",
       "      <th>2</th>\n",
       "      <td>C</td>\n",
       "      <td>[A)6, B)18, C)24, D)36, E)48]</td>\n",
       "      <td>A rectangular piece of cloth 2 feet wide was c...</td>\n",
       "      <td>The question says, length of shorter piece is ...</td>\n",
       "      <td>1</td>\n",
       "      <td>0</td>\n",
       "      <td>0</td>\n",
       "    </tr>\n",
       "    <tr>\n",
       "      <th>3</th>\n",
       "      <td>B</td>\n",
       "      <td>[A)(1,1), B)(0,3), C)(2,0), D)(3,6), E)(6,3)]</td>\n",
       "      <td>In the xy-coordinate plane, which of the follo...</td>\n",
       "      <td>For a point to satisfy the given equation for ...</td>\n",
       "      <td>1</td>\n",
       "      <td>0</td>\n",
       "      <td>0</td>\n",
       "    </tr>\n",
       "    <tr>\n",
       "      <th>4</th>\n",
       "      <td>C</td>\n",
       "      <td>[A)7, B)9, C)13, D)27, E)45]</td>\n",
       "      <td>A travel company wants to charter a plane to t...</td>\n",
       "      <td>Additional passengers (i.e., an integer, let's...</td>\n",
       "      <td>0</td>\n",
       "      <td>0</td>\n",
       "      <td>1</td>\n",
       "    </tr>\n",
       "  </tbody>\n",
       "</table>\n",
       "</div>"
      ],
      "text/plain": [
       "  correct                                        options  \\\n",
       "0       A        [A)32400, B)6000, C)600, D)60000, E)10]   \n",
       "1       D  [A)100 m, B)150 m, C)200 m, D)250 m, E)300 m]   \n",
       "2       C                  [A)6, B)18, C)24, D)36, E)48]   \n",
       "3       B  [A)(1,1), B)(0,3), C)(2,0), D)(3,6), E)(6,3)]   \n",
       "4       C                   [A)7, B)9, C)13, D)27, E)45]   \n",
       "\n",
       "                                            question  \\\n",
       "0  Three birds are flying at a fast rate of 900 k...   \n",
       "1  A ship is leaving a port. It takes 240 seconds...   \n",
       "2  A rectangular piece of cloth 2 feet wide was c...   \n",
       "3  In the xy-coordinate plane, which of the follo...   \n",
       "4  A travel company wants to charter a plane to t...   \n",
       "\n",
       "                                           rationale  spatial representations  \\\n",
       "0  To calculate the equivalent of miles in a kilo...                        0   \n",
       "1  Let the length of the ship be x metres and its...                        1   \n",
       "2  The question says, length of shorter piece is ...                        1   \n",
       "3  For a point to satisfy the given equation for ...                        1   \n",
       "4  Additional passengers (i.e., an integer, let's...                        0   \n",
       "\n",
       "   counting and operation  logical problem solving  \n",
       "0                       1                        0  \n",
       "1                       0                        0  \n",
       "2                       0                        0  \n",
       "3                       0                        0  \n",
       "4                       0                        1  "
      ]
     },
     "execution_count": 333,
     "metadata": {},
     "output_type": "execute_result"
    }
   ],
   "source": [
    "final.head()"
   ]
  },
  {
   "cell_type": "code",
   "execution_count": 334,
   "metadata": {},
   "outputs": [],
   "source": [
    "final.to_csv('math_questions_fulldata.csv', index=False)"
   ]
  }
 ],
 "metadata": {
  "kernelspec": {
   "display_name": "Python 3",
   "language": "python",
   "name": "python3"
  },
  "language_info": {
   "codemirror_mode": {
    "name": "ipython",
    "version": 3
   },
   "file_extension": ".py",
   "mimetype": "text/x-python",
   "name": "python",
   "nbconvert_exporter": "python",
   "pygments_lexer": "ipython3",
   "version": "3.6.6"
  }
 },
 "nbformat": 4,
 "nbformat_minor": 2
}
