{
 "cells": [
  {
   "cell_type": "code",
   "execution_count": 3,
   "metadata": {},
   "outputs": [],
   "source": [
    "import pandas as pd\n",
    "data = pd.read_csv('math_questions_fulldata.csv')"
   ]
  },
  {
   "cell_type": "code",
   "execution_count": 4,
   "metadata": {},
   "outputs": [],
   "source": [
    "import nltk\n",
    "import bs4 as bs\n",
    "from nltk.tokenize import sent_tokenize # tokenizes sentences\n",
    "import re\n",
    "from nltk.stem import PorterStemmer\n",
    "from nltk.tag import pos_tag\n",
    "from nltk.corpus import stopwords\n",
    "from nltk.corpus import wordnet\n",
    "from nltk.stem import WordNetLemmatizer"
   ]
  },
  {
   "cell_type": "code",
   "execution_count": 5,
   "metadata": {},
   "outputs": [],
   "source": [
    "data_cut = data.iloc[0:1000]"
   ]
  },
  {
   "cell_type": "code",
   "execution_count": 6,
   "metadata": {},
   "outputs": [
    {
     "data": {
      "text/html": [
       "<div>\n",
       "<style scoped>\n",
       "    .dataframe tbody tr th:only-of-type {\n",
       "        vertical-align: middle;\n",
       "    }\n",
       "\n",
       "    .dataframe tbody tr th {\n",
       "        vertical-align: top;\n",
       "    }\n",
       "\n",
       "    .dataframe thead th {\n",
       "        text-align: right;\n",
       "    }\n",
       "</style>\n",
       "<table border=\"1\" class=\"dataframe\">\n",
       "  <thead>\n",
       "    <tr style=\"text-align: right;\">\n",
       "      <th></th>\n",
       "      <th>correct</th>\n",
       "      <th>options</th>\n",
       "      <th>question</th>\n",
       "      <th>rationale</th>\n",
       "      <th>spatial representations</th>\n",
       "      <th>counting and operation</th>\n",
       "      <th>logical problem solving</th>\n",
       "    </tr>\n",
       "  </thead>\n",
       "  <tbody>\n",
       "    <tr>\n",
       "      <th>0</th>\n",
       "      <td>A</td>\n",
       "      <td>['A)32400', 'B)6000', 'C)600', 'D)60000', 'E)10']</td>\n",
       "      <td>Three birds are flying at a fast rate of 900 k...</td>\n",
       "      <td>To calculate the equivalent of miles in a kilo...</td>\n",
       "      <td>0.0</td>\n",
       "      <td>1.0</td>\n",
       "      <td>0.0</td>\n",
       "    </tr>\n",
       "    <tr>\n",
       "      <th>1</th>\n",
       "      <td>D</td>\n",
       "      <td>['A)100 m', 'B)150 m', 'C)200 m', 'D)250 m', '...</td>\n",
       "      <td>A ship is leaving a port. It takes 240 seconds...</td>\n",
       "      <td>Let the length of the ship be x metres and its...</td>\n",
       "      <td>1.0</td>\n",
       "      <td>0.0</td>\n",
       "      <td>0.0</td>\n",
       "    </tr>\n",
       "    <tr>\n",
       "      <th>2</th>\n",
       "      <td>C</td>\n",
       "      <td>['A)6', 'B)18', 'C)24', 'D)36', 'E)48']</td>\n",
       "      <td>A rectangular piece of cloth 2 feet wide was c...</td>\n",
       "      <td>The question says, length of shorter piece is ...</td>\n",
       "      <td>1.0</td>\n",
       "      <td>0.0</td>\n",
       "      <td>0.0</td>\n",
       "    </tr>\n",
       "    <tr>\n",
       "      <th>3</th>\n",
       "      <td>B</td>\n",
       "      <td>['A)(1,1)', 'B)(0,3)', 'C)(2,0)', 'D)(3,6)', '...</td>\n",
       "      <td>In the xy-coordinate plane, which of the follo...</td>\n",
       "      <td>For a point to satisfy the given equation for ...</td>\n",
       "      <td>1.0</td>\n",
       "      <td>0.0</td>\n",
       "      <td>0.0</td>\n",
       "    </tr>\n",
       "    <tr>\n",
       "      <th>4</th>\n",
       "      <td>C</td>\n",
       "      <td>['A)7', 'B)9', 'C)13', 'D)27', 'E)45']</td>\n",
       "      <td>A travel company wants to charter a plane to t...</td>\n",
       "      <td>Additional passengers (i.e., an integer, let's...</td>\n",
       "      <td>0.0</td>\n",
       "      <td>0.0</td>\n",
       "      <td>1.0</td>\n",
       "    </tr>\n",
       "  </tbody>\n",
       "</table>\n",
       "</div>"
      ],
      "text/plain": [
       "  correct                                            options  \\\n",
       "0       A  ['A)32400', 'B)6000', 'C)600', 'D)60000', 'E)10']   \n",
       "1       D  ['A)100 m', 'B)150 m', 'C)200 m', 'D)250 m', '...   \n",
       "2       C            ['A)6', 'B)18', 'C)24', 'D)36', 'E)48']   \n",
       "3       B  ['A)(1,1)', 'B)(0,3)', 'C)(2,0)', 'D)(3,6)', '...   \n",
       "4       C             ['A)7', 'B)9', 'C)13', 'D)27', 'E)45']   \n",
       "\n",
       "                                            question  \\\n",
       "0  Three birds are flying at a fast rate of 900 k...   \n",
       "1  A ship is leaving a port. It takes 240 seconds...   \n",
       "2  A rectangular piece of cloth 2 feet wide was c...   \n",
       "3  In the xy-coordinate plane, which of the follo...   \n",
       "4  A travel company wants to charter a plane to t...   \n",
       "\n",
       "                                           rationale  spatial representations  \\\n",
       "0  To calculate the equivalent of miles in a kilo...                      0.0   \n",
       "1  Let the length of the ship be x metres and its...                      1.0   \n",
       "2  The question says, length of shorter piece is ...                      1.0   \n",
       "3  For a point to satisfy the given equation for ...                      1.0   \n",
       "4  Additional passengers (i.e., an integer, let's...                      0.0   \n",
       "\n",
       "   counting and operation  logical problem solving  \n",
       "0                     1.0                      0.0  \n",
       "1                     0.0                      0.0  \n",
       "2                     0.0                      0.0  \n",
       "3                     0.0                      0.0  \n",
       "4                     0.0                      1.0  "
      ]
     },
     "execution_count": 6,
     "metadata": {},
     "output_type": "execute_result"
    }
   ],
   "source": [
    "data.head()"
   ]
  },
  {
   "cell_type": "code",
   "execution_count": 7,
   "metadata": {},
   "outputs": [],
   "source": [
    "n,c = data_cut.shape"
   ]
  },
  {
   "cell_type": "code",
   "execution_count": 8,
   "metadata": {},
   "outputs": [],
   "source": [
    "def get_wordnet_pos(treebank_tag):\n",
    "\n",
    "    if treebank_tag.startswith('J'):\n",
    "        return wordnet.ADJ\n",
    "    elif treebank_tag.startswith('V'):\n",
    "        return wordnet.VERB\n",
    "    elif treebank_tag.startswith('N'):\n",
    "        return wordnet.NOUN\n",
    "    elif treebank_tag.startswith('R'):\n",
    "        return wordnet.ADV\n",
    "    else:\n",
    "        return 'n'"
   ]
  },
  {
   "cell_type": "code",
   "execution_count": 9,
   "metadata": {},
   "outputs": [
    {
     "data": {
      "text/plain": [
       "(1000, 7)"
      ]
     },
     "execution_count": 9,
     "metadata": {},
     "output_type": "execute_result"
    }
   ],
   "source": [
    "data_cut.shape"
   ]
  },
  {
   "cell_type": "code",
   "execution_count": 10,
   "metadata": {},
   "outputs": [],
   "source": [
    "data_cut = data_cut.dropna()"
   ]
  },
  {
   "cell_type": "code",
   "execution_count": 11,
   "metadata": {},
   "outputs": [
    {
     "data": {
      "text/plain": [
       "(995, 7)"
      ]
     },
     "execution_count": 11,
     "metadata": {},
     "output_type": "execute_result"
    }
   ],
   "source": [
    "data_cut.shape"
   ]
  },
  {
   "cell_type": "code",
   "execution_count": 12,
   "metadata": {},
   "outputs": [],
   "source": [
    "data_cut = data_cut.reset_index(drop=True)"
   ]
  },
  {
   "cell_type": "code",
   "execution_count": 13,
   "metadata": {},
   "outputs": [],
   "source": [
    "n,c = data_cut.shape"
   ]
  },
  {
   "cell_type": "code",
   "execution_count": 14,
   "metadata": {},
   "outputs": [],
   "source": [
    "import numpy as np\n",
    "from nltk.corpus import stopwords\n",
    "useless = ['x', 'xx', 'xxx']\n",
    "eng_stopwords = stopwords.words('english') + useless\n",
    "bag = []\n",
    "\n",
    "for i in range(n):\n",
    "    #\n",
    "    #tokenize of question\n",
    "    #\n",
    "    question = bs.BeautifulSoup(data_cut['question'][i],features='lxml').text\n",
    "    question = question.replace('.','. ')\n",
    "    question = re.sub(r'\\{.*\\}', '', question)\n",
    "    question = re.sub('[^a-zA-Z ]' ,'',question)\n",
    "    question = question.lower()\n",
    "    question_words = question.split()\n",
    "    token_tag = pos_tag(question_words)\n",
    "    wnl = WordNetLemmatizer()\n",
    "    wnl_stems = []\n",
    "    for pair in token_tag:\n",
    "        res = wnl.lemmatize(pair[0],pos=get_wordnet_pos(pair[1]))\n",
    "        wnl_stems.append(res)\n",
    "    question_wo_stopwords = [w for w in question_words if not w in stopwords.words(\"english\")]\n",
    "    \n",
    "    #\n",
    "    #tokenize of rationale\n",
    "    #\n",
    "    rationale = bs.BeautifulSoup(data_cut['rationale'][i],features='lxml').text\n",
    "    rationale = rationale.replace('.','. ')\n",
    "    rationale = re.sub(r'\\{.*\\}', '', rationale)\n",
    "    rationale = re.sub('[^a-zA-Z ]' ,'',rationale)\n",
    "    rationale = rationale.lower()\n",
    "    rationale_words = rationale.split()\n",
    "    token_tag = pos_tag(rationale_words)\n",
    "    wnl = WordNetLemmatizer()\n",
    "    wnl_stems = []\n",
    "    for pair in token_tag:\n",
    "        res = wnl.lemmatize(pair[0],pos=get_wordnet_pos(pair[1]))\n",
    "        wnl_stems.append(res)\n",
    "    for w in rationale_words:\n",
    "        if not w in eng_stopwords:\n",
    "            question_wo_stopwords.append(w)\n",
    "    bag.append(question_wo_stopwords)"
   ]
  },
  {
   "cell_type": "code",
   "execution_count": 15,
   "metadata": {},
   "outputs": [],
   "source": [
    "data_cut['bag'] = bag"
   ]
  },
  {
   "cell_type": "code",
   "execution_count": 16,
   "metadata": {},
   "outputs": [
    {
     "data": {
      "text/html": [
       "<div>\n",
       "<style scoped>\n",
       "    .dataframe tbody tr th:only-of-type {\n",
       "        vertical-align: middle;\n",
       "    }\n",
       "\n",
       "    .dataframe tbody tr th {\n",
       "        vertical-align: top;\n",
       "    }\n",
       "\n",
       "    .dataframe thead th {\n",
       "        text-align: right;\n",
       "    }\n",
       "</style>\n",
       "<table border=\"1\" class=\"dataframe\">\n",
       "  <thead>\n",
       "    <tr style=\"text-align: right;\">\n",
       "      <th></th>\n",
       "      <th>correct</th>\n",
       "      <th>options</th>\n",
       "      <th>question</th>\n",
       "      <th>rationale</th>\n",
       "      <th>spatial representations</th>\n",
       "      <th>counting and operation</th>\n",
       "      <th>logical problem solving</th>\n",
       "      <th>bag</th>\n",
       "    </tr>\n",
       "  </thead>\n",
       "  <tbody>\n",
       "    <tr>\n",
       "      <th>0</th>\n",
       "      <td>A</td>\n",
       "      <td>['A)32400', 'B)6000', 'C)600', 'D)60000', 'E)10']</td>\n",
       "      <td>Three birds are flying at a fast rate of 900 k...</td>\n",
       "      <td>To calculate the equivalent of miles in a kilo...</td>\n",
       "      <td>0.0</td>\n",
       "      <td>1.0</td>\n",
       "      <td>0.0</td>\n",
       "      <td>[three, birds, flying, fast, rate, kilometers,...</td>\n",
       "    </tr>\n",
       "    <tr>\n",
       "      <th>1</th>\n",
       "      <td>D</td>\n",
       "      <td>['A)100 m', 'B)150 m', 'C)200 m', 'D)250 m', '...</td>\n",
       "      <td>A ship is leaving a port. It takes 240 seconds...</td>\n",
       "      <td>Let the length of the ship be x metres and its...</td>\n",
       "      <td>1.0</td>\n",
       "      <td>0.0</td>\n",
       "      <td>0.0</td>\n",
       "      <td>[ship, leaving, port, takes, seconds, passes, ...</td>\n",
       "    </tr>\n",
       "    <tr>\n",
       "      <th>2</th>\n",
       "      <td>C</td>\n",
       "      <td>['A)6', 'B)18', 'C)24', 'D)36', 'E)48']</td>\n",
       "      <td>A rectangular piece of cloth 2 feet wide was c...</td>\n",
       "      <td>The question says, length of shorter piece is ...</td>\n",
       "      <td>1.0</td>\n",
       "      <td>0.0</td>\n",
       "      <td>0.0</td>\n",
       "      <td>[rectangular, piece, cloth, feet, wide, cut, l...</td>\n",
       "    </tr>\n",
       "    <tr>\n",
       "      <th>3</th>\n",
       "      <td>B</td>\n",
       "      <td>['A)(1,1)', 'B)(0,3)', 'C)(2,0)', 'D)(3,6)', '...</td>\n",
       "      <td>In the xy-coordinate plane, which of the follo...</td>\n",
       "      <td>For a point to satisfy the given equation for ...</td>\n",
       "      <td>1.0</td>\n",
       "      <td>0.0</td>\n",
       "      <td>0.0</td>\n",
       "      <td>[xycoordinate, plane, following, points, must,...</td>\n",
       "    </tr>\n",
       "    <tr>\n",
       "      <th>4</th>\n",
       "      <td>C</td>\n",
       "      <td>['A)7', 'B)9', 'C)13', 'D)27', 'E)45']</td>\n",
       "      <td>A travel company wants to charter a plane to t...</td>\n",
       "      <td>Additional passengers (i.e., an integer, let's...</td>\n",
       "      <td>0.0</td>\n",
       "      <td>0.0</td>\n",
       "      <td>1.0</td>\n",
       "      <td>[travel, company, wants, charter, plane, baham...</td>\n",
       "    </tr>\n",
       "  </tbody>\n",
       "</table>\n",
       "</div>"
      ],
      "text/plain": [
       "  correct                                            options  \\\n",
       "0       A  ['A)32400', 'B)6000', 'C)600', 'D)60000', 'E)10']   \n",
       "1       D  ['A)100 m', 'B)150 m', 'C)200 m', 'D)250 m', '...   \n",
       "2       C            ['A)6', 'B)18', 'C)24', 'D)36', 'E)48']   \n",
       "3       B  ['A)(1,1)', 'B)(0,3)', 'C)(2,0)', 'D)(3,6)', '...   \n",
       "4       C             ['A)7', 'B)9', 'C)13', 'D)27', 'E)45']   \n",
       "\n",
       "                                            question  \\\n",
       "0  Three birds are flying at a fast rate of 900 k...   \n",
       "1  A ship is leaving a port. It takes 240 seconds...   \n",
       "2  A rectangular piece of cloth 2 feet wide was c...   \n",
       "3  In the xy-coordinate plane, which of the follo...   \n",
       "4  A travel company wants to charter a plane to t...   \n",
       "\n",
       "                                           rationale  spatial representations  \\\n",
       "0  To calculate the equivalent of miles in a kilo...                      0.0   \n",
       "1  Let the length of the ship be x metres and its...                      1.0   \n",
       "2  The question says, length of shorter piece is ...                      1.0   \n",
       "3  For a point to satisfy the given equation for ...                      1.0   \n",
       "4  Additional passengers (i.e., an integer, let's...                      0.0   \n",
       "\n",
       "   counting and operation  logical problem solving  \\\n",
       "0                     1.0                      0.0   \n",
       "1                     0.0                      0.0   \n",
       "2                     0.0                      0.0   \n",
       "3                     0.0                      0.0   \n",
       "4                     0.0                      1.0   \n",
       "\n",
       "                                                 bag  \n",
       "0  [three, birds, flying, fast, rate, kilometers,...  \n",
       "1  [ship, leaving, port, takes, seconds, passes, ...  \n",
       "2  [rectangular, piece, cloth, feet, wide, cut, l...  \n",
       "3  [xycoordinate, plane, following, points, must,...  \n",
       "4  [travel, company, wants, charter, plane, baham...  "
      ]
     },
     "execution_count": 16,
     "metadata": {},
     "output_type": "execute_result"
    }
   ],
   "source": [
    "data_cut.head()"
   ]
  },
  {
   "cell_type": "code",
   "execution_count": 17,
   "metadata": {},
   "outputs": [
    {
     "data": {
      "text/plain": [
       "['bills',\n",
       " 'shop',\n",
       " 'sells',\n",
       " 'candy',\n",
       " 'bars',\n",
       " 'full',\n",
       " 'case',\n",
       " 'full',\n",
       " 'case',\n",
       " 'added',\n",
       " 'candy',\n",
       " 'bars',\n",
       " 'already',\n",
       " 'case',\n",
       " 'fill',\n",
       " 'many',\n",
       " 'candy',\n",
       " 'bars',\n",
       " 'full',\n",
       " 'case',\n",
       " 'answer',\n",
       " 'e']"
      ]
     },
     "execution_count": 17,
     "metadata": {},
     "output_type": "execute_result"
    }
   ],
   "source": [
    "data_cut['bag'][22]"
   ]
  },
  {
   "cell_type": "code",
   "execution_count": 18,
   "metadata": {},
   "outputs": [
    {
     "name": "stdout",
     "output_type": "stream",
     "text": [
      "Done with 500 reviews\n"
     ]
    }
   ],
   "source": [
    "clean_wnl = []\n",
    "wnl = WordNetLemmatizer()\n",
    "for i in range(0,n):\n",
    "    if( (i+1)%500 == 0 ):\n",
    "        # print progress\n",
    "        print(\"Done with %d reviews\" %(i+1)) \n",
    "    \n",
    "    wnl_stems = []\n",
    "    insight = data_cut['bag'][i]\n",
    "    token_tag = pos_tag(insight)\n",
    "    for pair in token_tag:\n",
    "        res = wnl.lemmatize(pair[0],pos=get_wordnet_pos(pair[1]))\n",
    "        wnl_stems.append(res)\n",
    "\n",
    "    clean_wnl.append(' '.join(wnl_stems))\n",
    "    \n",
    "data_cut['clean_insight'] = clean_wnl"
   ]
  },
  {
   "cell_type": "code",
   "execution_count": 19,
   "metadata": {},
   "outputs": [
    {
     "data": {
      "text/html": [
       "<div>\n",
       "<style scoped>\n",
       "    .dataframe tbody tr th:only-of-type {\n",
       "        vertical-align: middle;\n",
       "    }\n",
       "\n",
       "    .dataframe tbody tr th {\n",
       "        vertical-align: top;\n",
       "    }\n",
       "\n",
       "    .dataframe thead th {\n",
       "        text-align: right;\n",
       "    }\n",
       "</style>\n",
       "<table border=\"1\" class=\"dataframe\">\n",
       "  <thead>\n",
       "    <tr style=\"text-align: right;\">\n",
       "      <th></th>\n",
       "      <th>correct</th>\n",
       "      <th>options</th>\n",
       "      <th>question</th>\n",
       "      <th>rationale</th>\n",
       "      <th>spatial representations</th>\n",
       "      <th>counting and operation</th>\n",
       "      <th>logical problem solving</th>\n",
       "      <th>bag</th>\n",
       "      <th>clean_insight</th>\n",
       "    </tr>\n",
       "  </thead>\n",
       "  <tbody>\n",
       "    <tr>\n",
       "      <th>0</th>\n",
       "      <td>A</td>\n",
       "      <td>['A)32400', 'B)6000', 'C)600', 'D)60000', 'E)10']</td>\n",
       "      <td>Three birds are flying at a fast rate of 900 k...</td>\n",
       "      <td>To calculate the equivalent of miles in a kilo...</td>\n",
       "      <td>0.0</td>\n",
       "      <td>1.0</td>\n",
       "      <td>0.0</td>\n",
       "      <td>[three, birds, flying, fast, rate, kilometers,...</td>\n",
       "      <td>three bird fly fast rate kilometer per hour sp...</td>\n",
       "    </tr>\n",
       "    <tr>\n",
       "      <th>1</th>\n",
       "      <td>D</td>\n",
       "      <td>['A)100 m', 'B)150 m', 'C)200 m', 'D)250 m', '...</td>\n",
       "      <td>A ship is leaving a port. It takes 240 seconds...</td>\n",
       "      <td>Let the length of the ship be x metres and its...</td>\n",
       "      <td>1.0</td>\n",
       "      <td>0.0</td>\n",
       "      <td>0.0</td>\n",
       "      <td>[ship, leaving, port, takes, seconds, passes, ...</td>\n",
       "      <td>ship leave port take second pass channel get p...</td>\n",
       "    </tr>\n",
       "    <tr>\n",
       "      <th>2</th>\n",
       "      <td>C</td>\n",
       "      <td>['A)6', 'B)18', 'C)24', 'D)36', 'E)48']</td>\n",
       "      <td>A rectangular piece of cloth 2 feet wide was c...</td>\n",
       "      <td>The question says, length of shorter piece is ...</td>\n",
       "      <td>1.0</td>\n",
       "      <td>0.0</td>\n",
       "      <td>0.0</td>\n",
       "      <td>[rectangular, piece, cloth, feet, wide, cut, l...</td>\n",
       "      <td>rectangular piece cloth foot wide cut lengthwi...</td>\n",
       "    </tr>\n",
       "    <tr>\n",
       "      <th>3</th>\n",
       "      <td>B</td>\n",
       "      <td>['A)(1,1)', 'B)(0,3)', 'C)(2,0)', 'D)(3,6)', '...</td>\n",
       "      <td>In the xy-coordinate plane, which of the follo...</td>\n",
       "      <td>For a point to satisfy the given equation for ...</td>\n",
       "      <td>1.0</td>\n",
       "      <td>0.0</td>\n",
       "      <td>0.0</td>\n",
       "      <td>[xycoordinate, plane, following, points, must,...</td>\n",
       "      <td>xycoordinate plane follow point must lie line ...</td>\n",
       "    </tr>\n",
       "    <tr>\n",
       "      <th>4</th>\n",
       "      <td>C</td>\n",
       "      <td>['A)7', 'B)9', 'C)13', 'D)27', 'E)45']</td>\n",
       "      <td>A travel company wants to charter a plane to t...</td>\n",
       "      <td>Additional passengers (i.e., an integer, let's...</td>\n",
       "      <td>0.0</td>\n",
       "      <td>0.0</td>\n",
       "      <td>1.0</td>\n",
       "      <td>[travel, company, wants, charter, plane, baham...</td>\n",
       "      <td>travel company want charter plane bahamas char...</td>\n",
       "    </tr>\n",
       "  </tbody>\n",
       "</table>\n",
       "</div>"
      ],
      "text/plain": [
       "  correct                                            options  \\\n",
       "0       A  ['A)32400', 'B)6000', 'C)600', 'D)60000', 'E)10']   \n",
       "1       D  ['A)100 m', 'B)150 m', 'C)200 m', 'D)250 m', '...   \n",
       "2       C            ['A)6', 'B)18', 'C)24', 'D)36', 'E)48']   \n",
       "3       B  ['A)(1,1)', 'B)(0,3)', 'C)(2,0)', 'D)(3,6)', '...   \n",
       "4       C             ['A)7', 'B)9', 'C)13', 'D)27', 'E)45']   \n",
       "\n",
       "                                            question  \\\n",
       "0  Three birds are flying at a fast rate of 900 k...   \n",
       "1  A ship is leaving a port. It takes 240 seconds...   \n",
       "2  A rectangular piece of cloth 2 feet wide was c...   \n",
       "3  In the xy-coordinate plane, which of the follo...   \n",
       "4  A travel company wants to charter a plane to t...   \n",
       "\n",
       "                                           rationale  spatial representations  \\\n",
       "0  To calculate the equivalent of miles in a kilo...                      0.0   \n",
       "1  Let the length of the ship be x metres and its...                      1.0   \n",
       "2  The question says, length of shorter piece is ...                      1.0   \n",
       "3  For a point to satisfy the given equation for ...                      1.0   \n",
       "4  Additional passengers (i.e., an integer, let's...                      0.0   \n",
       "\n",
       "   counting and operation  logical problem solving  \\\n",
       "0                     1.0                      0.0   \n",
       "1                     0.0                      0.0   \n",
       "2                     0.0                      0.0   \n",
       "3                     0.0                      0.0   \n",
       "4                     0.0                      1.0   \n",
       "\n",
       "                                                 bag  \\\n",
       "0  [three, birds, flying, fast, rate, kilometers,...   \n",
       "1  [ship, leaving, port, takes, seconds, passes, ...   \n",
       "2  [rectangular, piece, cloth, feet, wide, cut, l...   \n",
       "3  [xycoordinate, plane, following, points, must,...   \n",
       "4  [travel, company, wants, charter, plane, baham...   \n",
       "\n",
       "                                       clean_insight  \n",
       "0  three bird fly fast rate kilometer per hour sp...  \n",
       "1  ship leave port take second pass channel get p...  \n",
       "2  rectangular piece cloth foot wide cut lengthwi...  \n",
       "3  xycoordinate plane follow point must lie line ...  \n",
       "4  travel company want charter plane bahamas char...  "
      ]
     },
     "execution_count": 19,
     "metadata": {},
     "output_type": "execute_result"
    }
   ],
   "source": [
    "data_cut.head()"
   ]
  },
  {
   "cell_type": "code",
   "execution_count": 20,
   "metadata": {},
   "outputs": [
    {
     "data": {
      "text/html": [
       "<div>\n",
       "<style scoped>\n",
       "    .dataframe tbody tr th:only-of-type {\n",
       "        vertical-align: middle;\n",
       "    }\n",
       "\n",
       "    .dataframe tbody tr th {\n",
       "        vertical-align: top;\n",
       "    }\n",
       "\n",
       "    .dataframe thead th {\n",
       "        text-align: right;\n",
       "    }\n",
       "</style>\n",
       "<table border=\"1\" class=\"dataframe\">\n",
       "  <thead>\n",
       "    <tr style=\"text-align: right;\">\n",
       "      <th></th>\n",
       "      <th>aa</th>\n",
       "      <th>aaanswer</th>\n",
       "      <th>aanswer</th>\n",
       "      <th>aanswere</th>\n",
       "      <th>aavgavg</th>\n",
       "      <th>aavgthe</th>\n",
       "      <th>ab</th>\n",
       "      <th>abbbba</th>\n",
       "      <th>abbc</th>\n",
       "      <th>abbcacanswer</th>\n",
       "      <th>...</th>\n",
       "      <th>zh</th>\n",
       "      <th>zinc</th>\n",
       "      <th>znumber</th>\n",
       "      <th>zoology</th>\n",
       "      <th>zthe</th>\n",
       "      <th>zyxaverage</th>\n",
       "      <th>zyxzanswer</th>\n",
       "      <th>zzyyz</th>\n",
       "      <th>zzzz</th>\n",
       "      <th>zzzzzzxyanswer</th>\n",
       "    </tr>\n",
       "  </thead>\n",
       "  <tbody>\n",
       "    <tr>\n",
       "      <th>0</th>\n",
       "      <td>0</td>\n",
       "      <td>0</td>\n",
       "      <td>0</td>\n",
       "      <td>0</td>\n",
       "      <td>0</td>\n",
       "      <td>0</td>\n",
       "      <td>0</td>\n",
       "      <td>0</td>\n",
       "      <td>0</td>\n",
       "      <td>0</td>\n",
       "      <td>...</td>\n",
       "      <td>0</td>\n",
       "      <td>0</td>\n",
       "      <td>0</td>\n",
       "      <td>0</td>\n",
       "      <td>0</td>\n",
       "      <td>0</td>\n",
       "      <td>0</td>\n",
       "      <td>0</td>\n",
       "      <td>0</td>\n",
       "      <td>0</td>\n",
       "    </tr>\n",
       "    <tr>\n",
       "      <th>1</th>\n",
       "      <td>0</td>\n",
       "      <td>0</td>\n",
       "      <td>0</td>\n",
       "      <td>0</td>\n",
       "      <td>0</td>\n",
       "      <td>0</td>\n",
       "      <td>0</td>\n",
       "      <td>0</td>\n",
       "      <td>0</td>\n",
       "      <td>0</td>\n",
       "      <td>...</td>\n",
       "      <td>0</td>\n",
       "      <td>0</td>\n",
       "      <td>0</td>\n",
       "      <td>0</td>\n",
       "      <td>0</td>\n",
       "      <td>0</td>\n",
       "      <td>0</td>\n",
       "      <td>0</td>\n",
       "      <td>0</td>\n",
       "      <td>0</td>\n",
       "    </tr>\n",
       "    <tr>\n",
       "      <th>2</th>\n",
       "      <td>0</td>\n",
       "      <td>0</td>\n",
       "      <td>0</td>\n",
       "      <td>0</td>\n",
       "      <td>0</td>\n",
       "      <td>0</td>\n",
       "      <td>0</td>\n",
       "      <td>0</td>\n",
       "      <td>0</td>\n",
       "      <td>0</td>\n",
       "      <td>...</td>\n",
       "      <td>0</td>\n",
       "      <td>0</td>\n",
       "      <td>0</td>\n",
       "      <td>0</td>\n",
       "      <td>0</td>\n",
       "      <td>0</td>\n",
       "      <td>0</td>\n",
       "      <td>0</td>\n",
       "      <td>0</td>\n",
       "      <td>0</td>\n",
       "    </tr>\n",
       "    <tr>\n",
       "      <th>3</th>\n",
       "      <td>0</td>\n",
       "      <td>0</td>\n",
       "      <td>0</td>\n",
       "      <td>0</td>\n",
       "      <td>0</td>\n",
       "      <td>0</td>\n",
       "      <td>0</td>\n",
       "      <td>0</td>\n",
       "      <td>0</td>\n",
       "      <td>0</td>\n",
       "      <td>...</td>\n",
       "      <td>0</td>\n",
       "      <td>0</td>\n",
       "      <td>0</td>\n",
       "      <td>0</td>\n",
       "      <td>0</td>\n",
       "      <td>0</td>\n",
       "      <td>0</td>\n",
       "      <td>0</td>\n",
       "      <td>0</td>\n",
       "      <td>0</td>\n",
       "    </tr>\n",
       "    <tr>\n",
       "      <th>4</th>\n",
       "      <td>0</td>\n",
       "      <td>0</td>\n",
       "      <td>0</td>\n",
       "      <td>0</td>\n",
       "      <td>0</td>\n",
       "      <td>0</td>\n",
       "      <td>0</td>\n",
       "      <td>0</td>\n",
       "      <td>0</td>\n",
       "      <td>0</td>\n",
       "      <td>...</td>\n",
       "      <td>0</td>\n",
       "      <td>0</td>\n",
       "      <td>0</td>\n",
       "      <td>0</td>\n",
       "      <td>0</td>\n",
       "      <td>0</td>\n",
       "      <td>0</td>\n",
       "      <td>0</td>\n",
       "      <td>0</td>\n",
       "      <td>0</td>\n",
       "    </tr>\n",
       "  </tbody>\n",
       "</table>\n",
       "<p>5 rows × 4105 columns</p>\n",
       "</div>"
      ],
      "text/plain": [
       "   aa  aaanswer  aanswer  aanswere  aavgavg  aavgthe  ab  abbbba  abbc  \\\n",
       "0   0         0        0         0        0        0   0       0     0   \n",
       "1   0         0        0         0        0        0   0       0     0   \n",
       "2   0         0        0         0        0        0   0       0     0   \n",
       "3   0         0        0         0        0        0   0       0     0   \n",
       "4   0         0        0         0        0        0   0       0     0   \n",
       "\n",
       "   abbcacanswer       ...        zh  zinc  znumber  zoology  zthe  zyxaverage  \\\n",
       "0             0       ...         0     0        0        0     0           0   \n",
       "1             0       ...         0     0        0        0     0           0   \n",
       "2             0       ...         0     0        0        0     0           0   \n",
       "3             0       ...         0     0        0        0     0           0   \n",
       "4             0       ...         0     0        0        0     0           0   \n",
       "\n",
       "   zyxzanswer  zzyyz  zzzz  zzzzzzxyanswer  \n",
       "0           0      0     0               0  \n",
       "1           0      0     0               0  \n",
       "2           0      0     0               0  \n",
       "3           0      0     0               0  \n",
       "4           0      0     0               0  \n",
       "\n",
       "[5 rows x 4105 columns]"
      ]
     },
     "execution_count": 20,
     "metadata": {},
     "output_type": "execute_result"
    }
   ],
   "source": [
    "from sklearn.feature_extraction.text import CountVectorizer\n",
    "question = data_cut['clean_insight']\n",
    "vect = CountVectorizer()\n",
    "vect.fit(question)\n",
    "bag = vect.transform(question)\n",
    "vect_df = pd.DataFrame(bag.toarray(), columns=vect.get_feature_names())\n",
    "vect_df.head()"
   ]
  },
  {
   "cell_type": "code",
   "execution_count": 21,
   "metadata": {},
   "outputs": [],
   "source": [
    "n, c = data_cut.shape"
   ]
  },
  {
   "cell_type": "code",
   "execution_count": 22,
   "metadata": {},
   "outputs": [
    {
     "data": {
      "text/plain": [
       "42.0"
      ]
     },
     "execution_count": 22,
     "metadata": {},
     "output_type": "execute_result"
    }
   ],
   "source": [
    "data_cut['logical problem solving'].sum()"
   ]
  },
  {
   "cell_type": "code",
   "execution_count": 23,
   "metadata": {},
   "outputs": [],
   "source": [
    "data_cut['category'] = [0 for i in range(n)]\n",
    "for i in range(n):\n",
    "    if data_cut['counting and operation'][i] == 1 :\n",
    "        data_cut.loc[i, 'category'] = 1\n",
    "    if data_cut['logical problem solving'][i] == 1 :\n",
    "        data_cut.loc[i, 'category'] = 2\n",
    "    if data_cut['spatial representations'][i] == 1 :\n",
    "        data_cut.loc[i, 'category'] = 3        "
   ]
  },
  {
   "cell_type": "code",
   "execution_count": 24,
   "metadata": {},
   "outputs": [
    {
     "data": {
      "text/html": [
       "<div>\n",
       "<style scoped>\n",
       "    .dataframe tbody tr th:only-of-type {\n",
       "        vertical-align: middle;\n",
       "    }\n",
       "\n",
       "    .dataframe tbody tr th {\n",
       "        vertical-align: top;\n",
       "    }\n",
       "\n",
       "    .dataframe thead th {\n",
       "        text-align: right;\n",
       "    }\n",
       "</style>\n",
       "<table border=\"1\" class=\"dataframe\">\n",
       "  <thead>\n",
       "    <tr style=\"text-align: right;\">\n",
       "      <th></th>\n",
       "      <th>correct</th>\n",
       "      <th>options</th>\n",
       "      <th>question</th>\n",
       "      <th>rationale</th>\n",
       "      <th>spatial representations</th>\n",
       "      <th>counting and operation</th>\n",
       "      <th>logical problem solving</th>\n",
       "      <th>bag</th>\n",
       "      <th>clean_insight</th>\n",
       "      <th>category</th>\n",
       "    </tr>\n",
       "  </thead>\n",
       "  <tbody>\n",
       "    <tr>\n",
       "      <th>0</th>\n",
       "      <td>A</td>\n",
       "      <td>['A)32400', 'B)6000', 'C)600', 'D)60000', 'E)10']</td>\n",
       "      <td>Three birds are flying at a fast rate of 900 k...</td>\n",
       "      <td>To calculate the equivalent of miles in a kilo...</td>\n",
       "      <td>0.0</td>\n",
       "      <td>1.0</td>\n",
       "      <td>0.0</td>\n",
       "      <td>[three, birds, flying, fast, rate, kilometers,...</td>\n",
       "      <td>three bird fly fast rate kilometer per hour sp...</td>\n",
       "      <td>1</td>\n",
       "    </tr>\n",
       "    <tr>\n",
       "      <th>1</th>\n",
       "      <td>D</td>\n",
       "      <td>['A)100 m', 'B)150 m', 'C)200 m', 'D)250 m', '...</td>\n",
       "      <td>A ship is leaving a port. It takes 240 seconds...</td>\n",
       "      <td>Let the length of the ship be x metres and its...</td>\n",
       "      <td>1.0</td>\n",
       "      <td>0.0</td>\n",
       "      <td>0.0</td>\n",
       "      <td>[ship, leaving, port, takes, seconds, passes, ...</td>\n",
       "      <td>ship leave port take second pass channel get p...</td>\n",
       "      <td>3</td>\n",
       "    </tr>\n",
       "    <tr>\n",
       "      <th>2</th>\n",
       "      <td>C</td>\n",
       "      <td>['A)6', 'B)18', 'C)24', 'D)36', 'E)48']</td>\n",
       "      <td>A rectangular piece of cloth 2 feet wide was c...</td>\n",
       "      <td>The question says, length of shorter piece is ...</td>\n",
       "      <td>1.0</td>\n",
       "      <td>0.0</td>\n",
       "      <td>0.0</td>\n",
       "      <td>[rectangular, piece, cloth, feet, wide, cut, l...</td>\n",
       "      <td>rectangular piece cloth foot wide cut lengthwi...</td>\n",
       "      <td>3</td>\n",
       "    </tr>\n",
       "    <tr>\n",
       "      <th>3</th>\n",
       "      <td>B</td>\n",
       "      <td>['A)(1,1)', 'B)(0,3)', 'C)(2,0)', 'D)(3,6)', '...</td>\n",
       "      <td>In the xy-coordinate plane, which of the follo...</td>\n",
       "      <td>For a point to satisfy the given equation for ...</td>\n",
       "      <td>1.0</td>\n",
       "      <td>0.0</td>\n",
       "      <td>0.0</td>\n",
       "      <td>[xycoordinate, plane, following, points, must,...</td>\n",
       "      <td>xycoordinate plane follow point must lie line ...</td>\n",
       "      <td>3</td>\n",
       "    </tr>\n",
       "    <tr>\n",
       "      <th>4</th>\n",
       "      <td>C</td>\n",
       "      <td>['A)7', 'B)9', 'C)13', 'D)27', 'E)45']</td>\n",
       "      <td>A travel company wants to charter a plane to t...</td>\n",
       "      <td>Additional passengers (i.e., an integer, let's...</td>\n",
       "      <td>0.0</td>\n",
       "      <td>0.0</td>\n",
       "      <td>1.0</td>\n",
       "      <td>[travel, company, wants, charter, plane, baham...</td>\n",
       "      <td>travel company want charter plane bahamas char...</td>\n",
       "      <td>2</td>\n",
       "    </tr>\n",
       "  </tbody>\n",
       "</table>\n",
       "</div>"
      ],
      "text/plain": [
       "  correct                                            options  \\\n",
       "0       A  ['A)32400', 'B)6000', 'C)600', 'D)60000', 'E)10']   \n",
       "1       D  ['A)100 m', 'B)150 m', 'C)200 m', 'D)250 m', '...   \n",
       "2       C            ['A)6', 'B)18', 'C)24', 'D)36', 'E)48']   \n",
       "3       B  ['A)(1,1)', 'B)(0,3)', 'C)(2,0)', 'D)(3,6)', '...   \n",
       "4       C             ['A)7', 'B)9', 'C)13', 'D)27', 'E)45']   \n",
       "\n",
       "                                            question  \\\n",
       "0  Three birds are flying at a fast rate of 900 k...   \n",
       "1  A ship is leaving a port. It takes 240 seconds...   \n",
       "2  A rectangular piece of cloth 2 feet wide was c...   \n",
       "3  In the xy-coordinate plane, which of the follo...   \n",
       "4  A travel company wants to charter a plane to t...   \n",
       "\n",
       "                                           rationale  spatial representations  \\\n",
       "0  To calculate the equivalent of miles in a kilo...                      0.0   \n",
       "1  Let the length of the ship be x metres and its...                      1.0   \n",
       "2  The question says, length of shorter piece is ...                      1.0   \n",
       "3  For a point to satisfy the given equation for ...                      1.0   \n",
       "4  Additional passengers (i.e., an integer, let's...                      0.0   \n",
       "\n",
       "   counting and operation  logical problem solving  \\\n",
       "0                     1.0                      0.0   \n",
       "1                     0.0                      0.0   \n",
       "2                     0.0                      0.0   \n",
       "3                     0.0                      0.0   \n",
       "4                     0.0                      1.0   \n",
       "\n",
       "                                                 bag  \\\n",
       "0  [three, birds, flying, fast, rate, kilometers,...   \n",
       "1  [ship, leaving, port, takes, seconds, passes, ...   \n",
       "2  [rectangular, piece, cloth, feet, wide, cut, l...   \n",
       "3  [xycoordinate, plane, following, points, must,...   \n",
       "4  [travel, company, wants, charter, plane, baham...   \n",
       "\n",
       "                                       clean_insight  category  \n",
       "0  three bird fly fast rate kilometer per hour sp...         1  \n",
       "1  ship leave port take second pass channel get p...         3  \n",
       "2  rectangular piece cloth foot wide cut lengthwi...         3  \n",
       "3  xycoordinate plane follow point must lie line ...         3  \n",
       "4  travel company want charter plane bahamas char...         2  "
      ]
     },
     "execution_count": 24,
     "metadata": {},
     "output_type": "execute_result"
    }
   ],
   "source": [
    "data_cut.head()"
   ]
  },
  {
   "cell_type": "markdown",
   "metadata": {},
   "source": [
    "## 2. Fitting a support vector machine to the data\n",
    "\n",
    "In support vector machines, we are given a set of examples $(x_1, y_1), \\ldots, (x_n, y_n)$ and we want to find a weight vector $w \\in \\mathbb{R}^d$ that solves the following optimization problem:\n",
    "\n",
    "$$ \\min_{w \\in \\mathbb{R}^d} \\| w \\|^2 + C \\sum_{i=1}^n \\xi_i $$\n",
    "$$ \\text{subject to } y_i \\langle w, x_i \\rangle \\geq 1 - \\xi_i \\text{ for all } i=1,\\ldots, n$$\n",
    "\n",
    "`scikit-learn` provides an SVM solver that we will use. The following routine takes as input the constant `C` (from the above optimization problem) and returns the training and test error of the resulting SVM model. It is invoked as follows:\n",
    "\n",
    "* `training_error = fit_classifier(C)`\n",
    "\n",
    "The default value for parameter `C` is 1.0."
   ]
  },
  {
   "cell_type": "code",
   "execution_count": 25,
   "metadata": {},
   "outputs": [],
   "source": [
    "from sklearn import svm\n",
    "train = vect_df[0:105]\n",
    "train_labels = data_cut['category'][0:105]\n",
    "\n",
    "def fit_classifier(C_value=1.0):\n",
    "    clf = svm.LinearSVC(C=C_value, loss='hinge')\n",
    "    clf.fit(train,train_labels)\n",
    "    ## Get predictions on training data\n",
    "    train_preds = clf.predict(train)\n",
    "    train_error = float(np.sum((train_preds > 0.0) != (train_labels > 0.0)))/len(train_labels)\n",
    "        \n",
    "    return train_error"
   ]
  },
  {
   "cell_type": "code",
   "execution_count": 26,
   "metadata": {},
   "outputs": [
    {
     "name": "stdout",
     "output_type": "stream",
     "text": [
      "Error rate for C = 0.01: train 0.020\n",
      "Error rate for C = 0.10: train 0.000\n",
      "Error rate for C = 1.00: train 0.000\n",
      "Error rate for C = 10.00: train 0.000\n",
      "Error rate for C = 100.00: train 0.000\n",
      "Error rate for C = 1000.00: train 0.000\n",
      "Error rate for C = 10000.00: train 0.000\n"
     ]
    }
   ],
   "source": [
    "cvals = [0.01,0.1,1.0,10.0,100.0,1000.0,10000.0]\n",
    "for c in cvals:\n",
    "    train_error = fit_classifier(c)\n",
    "    print (\"Error rate for C = %0.2f: train %0.3f\" % (c, train_error))"
   ]
  },
  {
   "cell_type": "markdown",
   "metadata": {},
   "source": [
    "Here, as we don't have test data the result is quickly without error."
   ]
  },
  {
   "cell_type": "markdown",
   "metadata": {},
   "source": [
    "Let's try to divide our labeled data into 80% training set and 20% testing set."
   ]
  },
  {
   "cell_type": "code",
   "execution_count": 28,
   "metadata": {},
   "outputs": [],
   "source": [
    "train = vect_df[0:84]\n",
    "test = vect_df[84:105]\n",
    "train_labels = data_cut['category'][0:84]\n",
    "test_labels = data_cut['category'][84:105]"
   ]
  },
  {
   "cell_type": "code",
   "execution_count": 29,
   "metadata": {},
   "outputs": [],
   "source": [
    "def fit_classifier1(C_value=1.0):\n",
    "    clf = svm.LinearSVC(C=C_value, loss='hinge')\n",
    "    clf.fit(train,train_labels)\n",
    "    ## Get predictions on training data\n",
    "    train_preds = clf.predict(train)\n",
    "    train_error = float(np.sum((train_preds > 0.0) != (train_labels > 0.0)))/len(train_labels)\n",
    "    ## Get predictions on test data\n",
    "    test_preds = clf.predict(test)\n",
    "    test_error = float(np.sum((test_preds > 0.0) != (test_labels > 0.0)))/len(test_labels)\n",
    "    ##\n",
    "    return train_error, test_error"
   ]
  },
  {
   "cell_type": "code",
   "execution_count": 36,
   "metadata": {},
   "outputs": [
    {
     "name": "stdout",
     "output_type": "stream",
     "text": [
      "Error rate for C = 0.01: train 0.024 test 0.000\n",
      "Error rate for C = 0.10: train 0.000 test 0.000\n",
      "Error rate for C = 1.00: train 0.000 test 0.000\n",
      "Error rate for C = 10.00: train 0.000 test 0.000\n",
      "Error rate for C = 100.00: train 0.000 test 0.000\n",
      "Error rate for C = 1000.00: train 0.000 test 0.000\n",
      "Error rate for C = 10000.00: train 0.000 test 0.000\n"
     ]
    }
   ],
   "source": [
    "cvals = [0.01,0.1,1.0,10.0,100.0,1000.0,10000.0]\n",
    "for c in cvals:\n",
    "    train_error, test_error = fit_classifier1(c)\n",
    "    print (\"Error rate for C = %0.2f: train %0.3f test %0.3f\" % (c, train_error, test_error))"
   ]
  },
  {
   "cell_type": "markdown",
   "metadata": {},
   "source": [
    "So we can choose C = 0.1"
   ]
  },
  {
   "cell_type": "markdown",
   "metadata": {},
   "source": [
    "Now, let's make prediction for the rest of the dataset."
   ]
  },
  {
   "cell_type": "code",
   "execution_count": 37,
   "metadata": {},
   "outputs": [
    {
     "data": {
      "text/plain": [
       "array([1, 1, 1, 1, 2, 2, 1, 2, 2, 1, 1, 1, 1, 1, 1, 1, 1, 2, 1, 1, 2, 2,\n",
       "       1, 1, 2, 1, 2, 2, 1, 1, 1, 1, 1, 1, 1, 1, 3, 1, 1, 1, 2, 1, 1, 2,\n",
       "       2, 1, 1, 1, 1, 1, 1, 1, 1, 2, 1, 1, 1, 1, 1, 1, 2, 2, 2, 1, 1, 2,\n",
       "       1, 1, 1, 1, 2, 1, 1, 2, 1, 1, 1, 1, 1, 2, 1, 1, 1, 1, 3, 2, 1, 1,\n",
       "       1, 1, 1, 1, 2, 1, 1, 1, 3, 1, 2, 2, 1, 1, 1, 1, 3, 1, 2, 2, 2, 2,\n",
       "       1, 1, 1, 2, 1, 1, 1, 1, 1, 2, 1, 1, 1, 2, 2, 1, 2, 1, 1, 2, 1, 1,\n",
       "       1, 2, 1, 2, 2, 2, 2, 1, 1, 2, 2, 1, 1, 1, 1, 1, 1, 1, 1, 1, 2, 1,\n",
       "       2, 2, 1, 1, 0, 1, 1, 2, 1, 2, 2, 1, 1, 2, 1, 2, 2, 2, 2, 1, 1, 2,\n",
       "       2, 1, 1, 1, 1, 3, 2, 3, 1, 1, 2, 1, 2, 1, 1, 1, 1, 2, 1, 1, 1, 2,\n",
       "       1, 2, 1, 1, 2, 2, 1, 2, 1, 2, 1, 2, 1, 1, 1, 2, 3, 1, 2, 3, 2, 1,\n",
       "       2, 3, 1, 3, 3, 1, 2, 1, 1, 2, 3, 1, 3, 3, 2, 2, 1, 1, 1, 1, 1, 1,\n",
       "       1, 1, 1, 3, 2, 1, 2, 2, 1, 2, 1, 2, 1, 2, 2, 1, 1, 1, 1, 1, 1, 2,\n",
       "       3, 1, 1, 1, 2, 2, 1, 1, 1, 2, 2, 1, 1, 1, 1, 2, 1, 2, 1, 1, 2, 2,\n",
       "       1, 1, 1, 1, 3, 1, 2, 1, 2, 1, 1, 1, 1, 1, 2, 2, 1, 3, 2, 2, 1, 2,\n",
       "       1, 1, 1, 1, 1, 2, 3, 2, 1, 2, 2, 1, 2, 1, 1, 3, 2, 3, 1, 3, 0, 1,\n",
       "       2, 1, 1, 1, 1, 1, 2, 2, 1, 1, 1, 2, 1, 1, 2, 1, 3, 1, 2, 2, 1, 1,\n",
       "       1, 1, 2, 1, 2, 1, 1, 1, 2, 1, 1, 1, 1, 2, 2, 1, 2, 1, 1, 1, 2, 3,\n",
       "       2, 2, 2, 1, 1, 1, 2, 2, 2, 1, 1, 1, 2, 2, 1, 1, 1, 1, 1, 2, 2, 3,\n",
       "       2, 1, 1, 1, 1, 1, 2, 2, 3, 2, 2, 2, 2, 1, 2, 2, 2, 1, 2, 1, 1, 1,\n",
       "       2, 1, 2, 1, 2, 2, 2, 2, 2, 1, 1, 1, 1, 2, 1, 1, 1, 1, 2, 2, 2, 2,\n",
       "       2, 2, 1, 1, 2, 2, 1, 2, 2, 1, 1, 2, 1, 1, 1, 1, 2, 2, 1, 1, 2, 1,\n",
       "       1, 2, 2, 2, 1, 3, 1, 2, 2, 1, 1, 2, 3, 2, 1, 2, 3, 1, 1, 2, 2, 3,\n",
       "       1, 1, 2, 2, 2, 1, 1, 1, 1, 3, 2, 2, 1, 1, 1, 3, 1, 2, 1, 1, 1, 2,\n",
       "       3, 2, 1, 1, 1, 1, 1, 1, 1, 1, 2, 2, 2, 3, 1, 1, 2, 2, 2, 2, 2, 1,\n",
       "       1, 2, 2, 2, 1, 1, 1, 1, 1, 1, 2, 1, 1, 1, 2, 1, 2, 1, 2, 1, 1, 1,\n",
       "       2, 2, 2, 2, 1, 1, 1, 1, 1, 1, 1, 2, 2, 2, 2, 1, 1, 2, 1, 1, 1, 1,\n",
       "       1, 1, 2, 1, 1, 2, 1, 2, 1, 1, 2, 1, 1, 1, 1, 1, 1, 1, 1, 1, 2, 1,\n",
       "       1, 1, 1, 1, 1, 1, 1, 1, 1, 1, 1, 1, 3, 1, 1, 2, 1, 2, 1, 2, 1, 1,\n",
       "       1, 2, 2, 2, 2, 1, 1, 1, 1, 1, 1, 2, 1, 2, 2, 3, 1, 1, 2, 2, 2, 1,\n",
       "       2, 1, 1, 3, 1, 1, 1, 1, 2, 1, 2, 1, 1, 2, 2, 1, 1, 2, 2, 1, 1, 0,\n",
       "       2, 2, 2, 3, 1, 1, 1, 2, 2, 1, 2, 2, 1, 1, 1, 2, 2, 1, 2, 2, 1, 1,\n",
       "       1, 2, 1, 1, 1, 2, 1, 1, 1, 1, 2, 2, 3, 1, 1, 1, 1, 1, 1, 1, 2, 1,\n",
       "       3, 1, 1, 2, 2, 1, 2, 1, 2, 1, 1, 1, 3, 2, 2, 2, 2, 1, 2, 2, 1, 1,\n",
       "       2, 1, 1, 1, 1, 1, 1, 2, 1, 1, 1, 1, 2, 2, 1, 1, 1, 1, 2, 1, 2, 1,\n",
       "       1, 1, 1, 2, 2, 1, 2, 2, 1, 1, 1, 1, 2, 1, 1, 1, 1, 1, 2, 2, 1, 1,\n",
       "       2, 2, 1, 1, 2, 2, 1, 2, 2, 2, 1, 1, 2, 1, 1, 2, 2, 1, 1, 2, 2, 1,\n",
       "       1, 1, 2, 1, 1, 1, 1, 1, 2, 1, 1, 2, 1, 2, 2, 1, 2, 2, 1, 2, 2, 3,\n",
       "       2, 1, 1, 1, 2, 2, 2, 2, 1, 2, 2, 3, 1, 2, 1, 1, 1, 1, 1, 1, 2, 1,\n",
       "       1, 2, 1, 1, 1, 1, 1, 2, 1, 1, 1, 2, 3, 2, 3, 1, 1, 2, 2, 1, 1, 1,\n",
       "       2, 2, 1, 2, 2, 2, 1, 1, 1, 2, 1, 2, 2, 2, 1, 1, 2, 2, 1, 2, 2, 1,\n",
       "       3, 1, 2, 1, 2, 2, 2, 1, 1, 1], dtype=int64)"
      ]
     },
     "execution_count": 37,
     "metadata": {},
     "output_type": "execute_result"
    }
   ],
   "source": [
    "train = vect_df[0:105]\n",
    "train_labels = data_cut['category'][0:105]\n",
    "\n",
    "clf = svm.LinearSVC(C=0.1, loss='hinge')\n",
    "clf.fit(train,train_labels)\n",
    "\n",
    "    ## Get predictions on training data\n",
    "data_to_predict = vect_df[105:1000]\n",
    "preds = clf.predict(data_to_predict)\n",
    "preds"
   ]
  },
  {
   "cell_type": "markdown",
   "metadata": {},
   "source": [
    "There is a zeron so some data should be unlabelled, let's labelling them."
   ]
  },
  {
   "cell_type": "code",
   "execution_count": 42,
   "metadata": {},
   "outputs": [
    {
     "data": {
      "text/plain": [
       "'company produce unit particular computer component every month production cost company per component sell component end month minimum selling price per component guarantee yearly profit revenue sale minus production cost least xwhere sell cost one itemx profit one item number item produce sell per month number month yearsimplifying equation lead b'"
      ]
     },
     "execution_count": 42,
     "metadata": {},
     "output_type": "execute_result"
    }
   ],
   "source": [
    "data_cut['clean_insight'][264]"
   ]
  },
  {
   "cell_type": "code",
   "execution_count": 46,
   "metadata": {},
   "outputs": [
    {
     "name": "stdout",
     "output_type": "stream",
     "text": [
      "1\n",
      "3\n",
      "3\n",
      "3\n",
      "2\n",
      "1\n",
      "2\n",
      "3\n",
      "1\n",
      "2\n",
      "1\n",
      "2\n",
      "1\n",
      "1\n",
      "1\n",
      "1\n",
      "2\n",
      "2\n",
      "2\n",
      "2\n",
      "1\n",
      "1\n",
      "1\n",
      "2\n",
      "2\n",
      "1\n",
      "2\n",
      "2\n",
      "1\n",
      "2\n",
      "2\n",
      "1\n",
      "1\n",
      "3\n",
      "2\n",
      "2\n",
      "1\n",
      "2\n",
      "1\n",
      "1\n",
      "1\n",
      "2\n",
      "2\n",
      "1\n",
      "2\n",
      "0\n",
      "1\n",
      "0\n",
      "1\n",
      "2\n",
      "2\n",
      "1\n",
      "1\n",
      "1\n",
      "1\n",
      "1\n",
      "1\n",
      "1\n",
      "2\n",
      "2\n",
      "2\n",
      "1\n",
      "1\n",
      "2\n",
      "2\n",
      "2\n",
      "1\n",
      "1\n",
      "1\n",
      "1\n",
      "2\n",
      "2\n",
      "2\n",
      "1\n",
      "3\n",
      "1\n",
      "2\n",
      "1\n",
      "2\n",
      "1\n",
      "2\n",
      "1\n",
      "1\n",
      "2\n",
      "2\n",
      "2\n",
      "2\n",
      "1\n",
      "1\n",
      "1\n",
      "2\n",
      "1\n",
      "2\n",
      "2\n",
      "3\n",
      "1\n",
      "1\n",
      "3\n",
      "3\n",
      "2\n",
      "1\n",
      "1\n",
      "1\n",
      "1\n",
      "1\n"
     ]
    }
   ],
   "source": [
    "for i in range (len(train_labels)):\n",
    "    print(train_labels[i])"
   ]
  },
  {
   "cell_type": "code",
   "execution_count": 49,
   "metadata": {},
   "outputs": [
    {
     "data": {
      "text/plain": [
       "0"
      ]
     },
     "execution_count": 49,
     "metadata": {},
     "output_type": "execute_result"
    }
   ],
   "source": [
    "data_cut['category'][45]"
   ]
  },
  {
   "cell_type": "code",
   "execution_count": 50,
   "metadata": {},
   "outputs": [
    {
     "data": {
      "text/plain": [
       "0"
      ]
     },
     "execution_count": 50,
     "metadata": {},
     "output_type": "execute_result"
    }
   ],
   "source": [
    "data_cut['category'][47]"
   ]
  },
  {
   "cell_type": "code",
   "execution_count": 52,
   "metadata": {},
   "outputs": [
    {
     "data": {
      "text/plain": [
       "0.0"
      ]
     },
     "execution_count": 52,
     "metadata": {},
     "output_type": "execute_result"
    }
   ],
   "source": [
    "data_cut['counting and operation'][45]"
   ]
  },
  {
   "cell_type": "code",
   "execution_count": 53,
   "metadata": {},
   "outputs": [
    {
     "data": {
      "text/plain": [
       "0.0"
      ]
     },
     "execution_count": 53,
     "metadata": {},
     "output_type": "execute_result"
    }
   ],
   "source": [
    "data_cut['logical problem solving'][45]"
   ]
  },
  {
   "cell_type": "code",
   "execution_count": 55,
   "metadata": {},
   "outputs": [
    {
     "data": {
      "text/plain": [
       "0.0"
      ]
     },
     "execution_count": 55,
     "metadata": {},
     "output_type": "execute_result"
    }
   ],
   "source": [
    "data_cut['spatial representations'][45]"
   ]
  },
  {
   "cell_type": "code",
   "execution_count": 58,
   "metadata": {},
   "outputs": [
    {
     "data": {
      "text/plain": [
       "'A shrewd opportunist bought 50 equally priced Kale Kids in November for t dollars total. In December, he sold each Kale Kid for a profit of 100 percent. In terms of t, how much was each Kale Kid sold for?'"
      ]
     },
     "execution_count": 58,
     "metadata": {},
     "output_type": "execute_result"
    }
   ],
   "source": [
    "data_cut['question'][45]"
   ]
  },
  {
   "cell_type": "code",
   "execution_count": 69,
   "metadata": {},
   "outputs": [],
   "source": [
    "data.loc[45,'logical problem solving'] = 1\n",
    "data_cut.loc[45,'logical problem solving'] = 1\n",
    "data_cut.loc[45,'category'] = 2"
   ]
  },
  {
   "cell_type": "code",
   "execution_count": 63,
   "metadata": {},
   "outputs": [
    {
     "data": {
      "text/plain": [
       "'An agent gets a 5% commission on sales of cloths. In a certain day he got $500 as commission. The cloths sold through him on that day is worth?'"
      ]
     },
     "execution_count": 63,
     "metadata": {},
     "output_type": "execute_result"
    }
   ],
   "source": [
    "data_cut['question'][47]"
   ]
  },
  {
   "cell_type": "code",
   "execution_count": 70,
   "metadata": {},
   "outputs": [],
   "source": [
    "data.loc[47,'counting and operation'] = 1\n",
    "data_cut.loc[47,'counting and operation'] = 1\n",
    "data_cut.loc[47,'category'] = 1"
   ]
  },
  {
   "cell_type": "code",
   "execution_count": 71,
   "metadata": {},
   "outputs": [
    {
     "data": {
      "text/plain": [
       "array([1, 1, 1, 1, 2, 2, 1, 2, 2, 1, 1, 1, 1, 1, 1, 1, 1, 2, 1, 1, 2, 2,\n",
       "       1, 1, 2, 1, 2, 2, 1, 1, 1, 1, 1, 1, 1, 1, 3, 1, 1, 1, 2, 1, 1, 2,\n",
       "       2, 1, 1, 1, 1, 1, 1, 1, 1, 2, 1, 1, 1, 1, 1, 1, 2, 2, 2, 1, 1, 2,\n",
       "       1, 1, 1, 1, 2, 1, 1, 2, 1, 1, 1, 1, 1, 2, 1, 1, 1, 1, 3, 2, 1, 1,\n",
       "       1, 1, 1, 1, 2, 1, 1, 1, 3, 1, 2, 2, 1, 1, 1, 1, 3, 1, 2, 2, 2, 2,\n",
       "       1, 1, 1, 2, 1, 1, 1, 1, 1, 2, 1, 1, 1, 2, 1, 1, 2, 1, 1, 2, 1, 1,\n",
       "       1, 2, 1, 2, 1, 2, 2, 1, 1, 2, 2, 1, 1, 1, 1, 1, 1, 1, 1, 1, 2, 1,\n",
       "       2, 2, 1, 1, 1, 1, 1, 2, 1, 2, 2, 1, 1, 2, 1, 2, 2, 2, 2, 1, 1, 2,\n",
       "       2, 1, 1, 1, 1, 3, 2, 3, 1, 1, 2, 1, 2, 1, 1, 1, 1, 2, 1, 1, 1, 2,\n",
       "       1, 2, 1, 1, 2, 2, 1, 2, 1, 2, 1, 2, 1, 1, 1, 2, 3, 1, 2, 3, 2, 1,\n",
       "       2, 3, 1, 3, 3, 1, 2, 1, 1, 2, 3, 1, 3, 3, 2, 2, 1, 1, 1, 1, 1, 1,\n",
       "       1, 1, 1, 3, 2, 1, 2, 2, 1, 2, 1, 2, 1, 1, 2, 1, 1, 1, 1, 2, 1, 2,\n",
       "       3, 1, 1, 1, 2, 2, 1, 1, 1, 2, 2, 1, 1, 1, 1, 2, 1, 2, 1, 1, 2, 2,\n",
       "       1, 1, 1, 1, 3, 1, 2, 1, 2, 1, 1, 1, 1, 1, 2, 2, 1, 3, 2, 2, 1, 2,\n",
       "       1, 1, 1, 1, 1, 2, 3, 2, 1, 2, 2, 1, 2, 1, 1, 3, 2, 3, 1, 3, 1, 1,\n",
       "       1, 1, 1, 1, 1, 1, 2, 2, 1, 1, 1, 2, 1, 1, 2, 1, 3, 1, 2, 2, 1, 1,\n",
       "       1, 1, 2, 1, 2, 1, 1, 1, 2, 1, 1, 1, 1, 2, 2, 1, 2, 1, 1, 1, 2, 3,\n",
       "       2, 2, 2, 1, 1, 1, 2, 2, 2, 1, 1, 1, 2, 2, 1, 1, 1, 2, 1, 2, 2, 3,\n",
       "       2, 1, 1, 1, 1, 1, 2, 2, 3, 1, 2, 2, 2, 1, 2, 2, 2, 1, 2, 1, 1, 1,\n",
       "       2, 1, 2, 1, 2, 1, 2, 2, 2, 1, 1, 1, 1, 2, 1, 1, 2, 1, 2, 2, 2, 2,\n",
       "       2, 1, 1, 1, 2, 2, 1, 2, 2, 2, 1, 2, 1, 1, 1, 1, 2, 2, 1, 1, 2, 1,\n",
       "       1, 2, 2, 2, 1, 3, 1, 2, 2, 1, 1, 2, 3, 2, 1, 3, 3, 1, 1, 2, 2, 3,\n",
       "       1, 1, 2, 2, 2, 1, 1, 1, 1, 3, 2, 2, 1, 1, 1, 3, 1, 2, 1, 1, 1, 2,\n",
       "       3, 2, 1, 1, 1, 1, 1, 1, 1, 1, 2, 2, 2, 3, 1, 1, 2, 2, 2, 2, 1, 1,\n",
       "       1, 2, 2, 2, 1, 1, 1, 1, 1, 1, 2, 1, 1, 1, 2, 1, 2, 1, 2, 1, 1, 1,\n",
       "       2, 2, 2, 2, 1, 1, 1, 1, 1, 1, 1, 2, 2, 2, 1, 1, 1, 2, 1, 1, 1, 1,\n",
       "       1, 1, 2, 1, 1, 2, 1, 2, 1, 1, 2, 1, 1, 1, 1, 1, 1, 1, 1, 1, 2, 1,\n",
       "       1, 1, 1, 1, 1, 1, 1, 1, 1, 1, 1, 1, 3, 1, 1, 2, 1, 2, 1, 1, 1, 1,\n",
       "       1, 2, 2, 2, 2, 1, 1, 1, 1, 1, 1, 2, 1, 2, 2, 3, 1, 1, 2, 2, 2, 1,\n",
       "       2, 1, 1, 3, 1, 1, 1, 1, 2, 1, 2, 1, 1, 2, 2, 1, 1, 2, 2, 1, 1, 1,\n",
       "       2, 1, 2, 3, 1, 1, 1, 2, 2, 1, 2, 2, 1, 1, 1, 2, 2, 1, 2, 2, 1, 1,\n",
       "       1, 2, 1, 1, 1, 2, 1, 1, 1, 1, 2, 2, 3, 1, 1, 1, 2, 1, 1, 1, 2, 1,\n",
       "       3, 1, 1, 2, 2, 1, 2, 1, 2, 1, 1, 1, 3, 2, 2, 2, 2, 1, 2, 2, 1, 1,\n",
       "       2, 1, 1, 1, 1, 1, 1, 2, 1, 1, 1, 1, 2, 2, 1, 1, 1, 1, 2, 1, 2, 1,\n",
       "       1, 1, 1, 1, 2, 1, 2, 2, 1, 1, 1, 1, 2, 1, 1, 1, 1, 1, 2, 2, 1, 1,\n",
       "       2, 2, 1, 1, 2, 2, 1, 2, 2, 2, 1, 1, 2, 1, 1, 2, 2, 1, 1, 2, 2, 1,\n",
       "       1, 1, 2, 1, 1, 1, 1, 1, 2, 1, 1, 2, 1, 2, 2, 1, 2, 2, 1, 2, 2, 3,\n",
       "       2, 1, 2, 1, 2, 2, 2, 2, 1, 2, 2, 3, 1, 2, 3, 1, 1, 1, 1, 1, 2, 1,\n",
       "       1, 2, 1, 1, 1, 1, 1, 2, 1, 1, 1, 2, 3, 2, 3, 1, 1, 2, 2, 1, 1, 1,\n",
       "       2, 2, 1, 2, 2, 2, 1, 1, 1, 2, 1, 2, 2, 2, 1, 1, 2, 2, 1, 2, 2, 1,\n",
       "       3, 1, 2, 1, 2, 2, 2, 1, 1, 1], dtype=int64)"
      ]
     },
     "execution_count": 71,
     "metadata": {},
     "output_type": "execute_result"
    }
   ],
   "source": [
    "train = vect_df[0:105]\n",
    "train_labels = data_cut['category'][0:105]\n",
    "\n",
    "clf = svm.LinearSVC(C=0.1, loss='hinge')\n",
    "clf.fit(train,train_labels)\n",
    "\n",
    "    ## Get predictions on training data\n",
    "data_to_predict = vect_df[105:1000]\n",
    "preds = clf.predict(data_to_predict)\n",
    "preds"
   ]
  },
  {
   "cell_type": "code",
   "execution_count": null,
   "metadata": {},
   "outputs": [],
   "source": []
  }
 ],
 "metadata": {
  "kernelspec": {
   "display_name": "Python 3",
   "language": "python",
   "name": "python3"
  }
 },
 "nbformat": 4,
 "nbformat_minor": 2
}
